{
  "nbformat": 4,
  "nbformat_minor": 0,
  "metadata": {
    "colab": {
      "name": "Python Fundamental for Data Science.ipynb",
      "provenance": [],
      "authorship_tag": "ABX9TyM9eqozCX/pLKXANlA5x8lo",
      "include_colab_link": true
    },
    "kernelspec": {
      "name": "python3",
      "display_name": "Python 3"
    },
    "language_info": {
      "name": "python"
    }
  },
  "cells": [
    {
      "cell_type": "markdown",
      "metadata": {
        "id": "view-in-github",
        "colab_type": "text"
      },
      "source": [
        ""
      ]
    },
    {
      "cell_type": "markdown",
      "metadata": {
        "id": "9H9sZYfTXNdf"
      },
      "source": [
        "Python berguna untuk:\n",
        "\n",
        "1. Web Development (Server – Side)\n",
        "2. Software Development\n",
        "3. Mathematics\n",
        "4. Scripting\n",
        "5. Data Science\n",
        "6. Mengelola Big Data dan Rumus matematika yang complex\n",
        "7. Cocok untuk riset dan rapid prototype suatu product dan launch hingga produksi\n",
        "8. CRUD sebuah file dan database"
      ]
    },
    {
      "cell_type": "markdown",
      "metadata": {
        "id": "2BFimEo6YWrt"
      },
      "source": [
        "# **IF Statement**\n"
      ]
    },
    {
      "cell_type": "code",
      "metadata": {
        "id": "oCZatpkLmkWr"
      },
      "source": [
        "i = 7 #inisialisasi variable i yang memiliki nilai 10\n",
        "\n",
        "if(i==10): #pengecekan nilai i apakah sama dengan 10\n",
        "\tprint(\"ini adalah angka 10\") #jika TRUE maka akan mencetak kalimat ini"
      ],
      "execution_count": 1,
      "outputs": []
    },
    {
      "cell_type": "markdown",
      "metadata": {
        "id": "USMVEyYYYkmB"
      },
      "source": [
        "# **IF .. ELSE ..**"
      ]
    },
    {
      "cell_type": "code",
      "metadata": {
        "colab": {
          "base_uri": "https://localhost:8080/"
        },
        "id": "hfN-fkQ9Ycuv",
        "outputId": "1959a9da-356d-4699-8ccb-0a30ff516510"
      },
      "source": [
        "i = 5 #inisialisasi variable i yang memiliki nilai 10\n",
        "\n",
        "if(i==10):\t#pengecekan nilai i apakah sama dengan 10\n",
        "\tprint(\"ini adalah angka 10\") #jika TRUE maka akan mencetak kalimat ini\n",
        "else:\n",
        "\tprint(\"bukan angka 10\") #jika FALSE akan mencetak kalimat ini"
      ],
      "execution_count": 2,
      "outputs": [
        {
          "output_type": "stream",
          "text": [
            "bukan angka 10\n"
          ],
          "name": "stdout"
        }
      ]
    },
    {
      "cell_type": "markdown",
      "metadata": {
        "id": "UqMGoQTwYsRy"
      },
      "source": [
        "#**IF .. ELIF .. ELSE ..**"
      ]
    },
    {
      "cell_type": "code",
      "metadata": {
        "colab": {
          "base_uri": "https://localhost:8080/"
        },
        "id": "JsTtt7klYph6",
        "outputId": "633460bc-d4b5-4f6f-e554-7a7b64212606"
      },
      "source": [
        "i=3\n",
        "\n",
        "if(i==5):\n",
        "\tprint(\"ini adalah angka 5\")\n",
        "elif(i>5):\n",
        "\tprint(\"lebih besar dari 5\")\n",
        "else:\n",
        "\tprint(\"lebih kecil dari 5\")"
      ],
      "execution_count": 3,
      "outputs": [
        {
          "output_type": "stream",
          "text": [
            "lebih kecil dari 5\n"
          ],
          "name": "stdout"
        }
      ]
    },
    {
      "cell_type": "markdown",
      "metadata": {
        "id": "QVBT2xkvY31K"
      },
      "source": [
        "#**NESTED IF**"
      ]
    },
    {
      "cell_type": "code",
      "metadata": {
        "colab": {
          "base_uri": "https://localhost:8080/"
        },
        "id": "71OlJ8mSYyCx",
        "outputId": "3806ec11-1bf4-4644-e377-a1ffdc5f4ea8"
      },
      "source": [
        "i=2\n",
        "if(i<7):\n",
        "\tprint(\"nilai i kurang dari 7\")\n",
        " \n",
        "\tif(i<3):\n",
        "\t\tprint(\"nilai i kurang dari 7 dan kurang dari 3\")\n",
        "\telse:\n",
        "\t\tprint(\"nilai i kurang dari 7 tapi lebih dari 3\")"
      ],
      "execution_count": 4,
      "outputs": [
        {
          "output_type": "stream",
          "text": [
            "nilai i kurang dari 7\n",
            "nilai i kurang dari 7 dan kurang dari 3\n"
          ],
          "name": "stdout"
        }
      ]
    },
    {
      "cell_type": "markdown",
      "metadata": {
        "id": "gri7XNDIZTtt"
      },
      "source": [
        "#**Operator Matematika dan Pembanding**\n",
        "\n",
        "| Nama Operator | Operator |\n",
        "| ------------- | -------- |\n",
        "|Tambah         |    +     |\n",
        "|Kurang         |    -     |\n",
        "|Pembagi | / |\n",
        "|Perkalian | * |\n",
        "|Modulus | % |\n",
        "|Kurang dari | < |\n",
        "|Lebih dari | > |\n",
        "|Kurang dari sama dengan | <= |\n",
        "|Lebih dari sama dengan | >= |\n",
        "|Sama dengan | = |"
      ]
    },
    {
      "cell_type": "code",
      "metadata": {
        "colab": {
          "base_uri": "https://localhost:8080/"
        },
        "id": "-ibeWj-fY6b8",
        "outputId": "07bfa6ed-97d1-41d1-885c-0eef175c343c"
      },
      "source": [
        "a=10\n",
        "b=5\n",
        "selisih = a-b\n",
        "jumlah = a+b\n",
        "kali = a*b\n",
        "bagi = a/b\n",
        "\n",
        "print(\"Hasil penjumlahan a dan b adalah\", jumlah)\n",
        "print(\"Selisih a dan b adalah :\",selisih)\n",
        "print(\"Hasil perkalian a dan b adalah :\",kali)\n",
        "print(\"Hasil pembagian a dan b adalah:\",bagi)"
      ],
      "execution_count": 5,
      "outputs": [
        {
          "output_type": "stream",
          "text": [
            "Hasil penjumlahan a dan b adalah 15\n",
            "Selisih a dan b adalah : 5\n",
            "Hasil perkalian a dan b adalah : 50\n",
            "Hasil pembagian a dan b adalah: 2.0\n"
          ],
          "name": "stdout"
        }
      ]
    },
    {
      "cell_type": "code",
      "metadata": {
        "colab": {
          "base_uri": "https://localhost:8080/"
        },
        "id": "I9SKw7UwagCA",
        "outputId": "680cb30a-a811-4c43-9cd1-c4991e042aaf"
      },
      "source": [
        "c=10\n",
        "d=3\n",
        "\n",
        "modulus=c%d\n",
        "print(\"Hasil modulus\",modulus)"
      ],
      "execution_count": 6,
      "outputs": [
        {
          "output_type": "stream",
          "text": [
            "Hasil modulus 1\n"
          ],
          "name": "stdout"
        }
      ]
    },
    {
      "cell_type": "markdown",
      "metadata": {
        "id": "O292sWcxap47"
      },
      "source": [
        "#**Perulangan**\n",
        "\n",
        "# ***while***"
      ]
    },
    {
      "cell_type": "code",
      "metadata": {
        "colab": {
          "base_uri": "https://localhost:8080/"
        },
        "id": "s4U7tQSVaje9",
        "outputId": "8a6f0bdf-f868-451c-fc8b-ada038950f6c"
      },
      "source": [
        "j = 0 #nilai awal j=0\n",
        "\n",
        "while j<6:\t#ketika j kurang dari 6 lakukan perulangan, jika tidak stop perulangan\n",
        "\tprint(\"Ini adalah perulangan ke-\",j) #lakukan perintah ini ketika perulangan\n",
        "\tj=j+1 #setiap kali diakhir perulangan update nilai dengan ditambah 1."
      ],
      "execution_count": 7,
      "outputs": [
        {
          "output_type": "stream",
          "text": [
            "Ini adalah perulangan ke- 0\n",
            "Ini adalah perulangan ke- 1\n",
            "Ini adalah perulangan ke- 2\n",
            "Ini adalah perulangan ke- 3\n",
            "Ini adalah perulangan ke- 4\n",
            "Ini adalah perulangan ke- 5\n"
          ],
          "name": "stdout"
        }
      ]
    },
    {
      "cell_type": "markdown",
      "metadata": {
        "id": "d7JB2A28bRzV"
      },
      "source": [
        "#***for***"
      ]
    },
    {
      "cell_type": "code",
      "metadata": {
        "colab": {
          "base_uri": "https://localhost:8080/"
        },
        "id": "p6Yco4OIavMC",
        "outputId": "7a4bd766-e5b5-4269-d145-54e95068618a"
      },
      "source": [
        "for i in range (1,6): #perulangan for sebagai inisialisasi dari angka 1 hingga angka yang lebih kecil daripada 6.\n",
        "\n",
        "    print(\"Ini adalah perulangan ke -\", i) #perintah jika looping akan tetap berjalan"
      ],
      "execution_count": 8,
      "outputs": [
        {
          "output_type": "stream",
          "text": [
            "Ini adalah perulangan ke - 1\n",
            "Ini adalah perulangan ke - 2\n",
            "Ini adalah perulangan ke - 3\n",
            "Ini adalah perulangan ke - 4\n",
            "Ini adalah perulangan ke - 5\n"
          ],
          "name": "stdout"
        }
      ]
    },
    {
      "cell_type": "markdown",
      "metadata": {
        "id": "J5gd9DJPbhjD"
      },
      "source": [
        "#***for with element***"
      ]
    },
    {
      "cell_type": "code",
      "metadata": {
        "colab": {
          "base_uri": "https://localhost:8080/"
        },
        "id": "qDeQ7pgLbdrh",
        "outputId": "f20c88b9-a67d-4899-dae2-e041f9605138"
      },
      "source": [
        "for i in range (1,11):\n",
        "    if(i%2==0):\n",
        "        print(\"Angka genap\",i)\n",
        "    else:\n",
        "         print(\"Angka ganjil\",i)"
      ],
      "execution_count": 9,
      "outputs": [
        {
          "output_type": "stream",
          "text": [
            "Angka ganjil 1\n",
            "Angka genap 2\n",
            "Angka ganjil 3\n",
            "Angka genap 4\n",
            "Angka ganjil 5\n",
            "Angka genap 6\n",
            "Angka ganjil 7\n",
            "Angka genap 8\n",
            "Angka ganjil 9\n",
            "Angka genap 10\n"
          ],
          "name": "stdout"
        }
      ]
    },
    {
      "cell_type": "markdown",
      "metadata": {
        "id": "VVeI8qm2brGo"
      },
      "source": [
        "#**Function**"
      ]
    },
    {
      "cell_type": "code",
      "metadata": {
        "colab": {
          "base_uri": "https://localhost:8080/"
        },
        "id": "atbt1NtDbmA5",
        "outputId": "20b32be6-7cfd-4a03-bcf1-7d4f627e752f"
      },
      "source": [
        "# Membuat Fungsi\n",
        "def salam():\n",
        "\tprint(\"Hello, Selamat Pagi\")\n",
        "\n",
        "## Pemanggilan Fungsi\n",
        "salam()"
      ],
      "execution_count": 10,
      "outputs": [
        {
          "output_type": "stream",
          "text": [
            "Hello, Selamat Pagi\n"
          ],
          "name": "stdout"
        }
      ]
    },
    {
      "cell_type": "markdown",
      "metadata": {
        "id": "GWb2s0o4b6B9"
      },
      "source": [
        "##**Function Parameter**\n",
        "Parameter adalah variabel yang menampung nilai untuk diproses kedalam suatu fungsi."
      ]
    },
    {
      "cell_type": "code",
      "metadata": {
        "id": "iQtvDvq1bv3D"
      },
      "source": [
        "def luas_segitiga(alas, tinggi):\n",
        "\tluas = (alas * tinggi) / 2\n",
        "\tprint(\"Luas segitiga: %f\" % luas);\n",
        "\n",
        "# Pemanggilan fungsi\n",
        "##4 dan 6 merupakan parameter yang diinputkan kedalam fungsi luas segitiga\n",
        "luas_segitiga(4,6)"
      ],
      "execution_count": null,
      "outputs": []
    },
    {
      "cell_type": "markdown",
      "metadata": {
        "id": "yTPTrM1zcFrl"
      },
      "source": [
        "##**Function with Return Value**"
      ]
    },
    {
      "cell_type": "code",
      "metadata": {
        "colab": {
          "base_uri": "https://localhost:8080/"
        },
        "id": "-tPsGmM7cPoY",
        "outputId": "c6631f55-d6f8-49f5-aa83-41231832f3e4"
      },
      "source": [
        "def luas_segitiga(alas, tinggi): #alas dan tinggi merupakan parameter yang masuk\n",
        "    luas = (alas * tinggi) / 2\n",
        "    return luas\n",
        "\n",
        "\n",
        "# Pemanggilan fungsi\n",
        "##4 dan 6 merupakan parameter yang diinputkan kedalam fungsi luas segitiga \n",
        "print(\"Luas segitiga: %d\" % luas_segitiga(4, 6))"
      ],
      "execution_count": 11,
      "outputs": [
        {
          "output_type": "stream",
          "text": [
            "Luas segitiga: 12\n"
          ],
          "name": "stdout"
        }
      ]
    },
    {
      "cell_type": "markdown",
      "metadata": {
        "id": "qDqZFUCPcZIF"
      },
      "source": [
        "#**Import Package and Module**"
      ]
    },
    {
      "cell_type": "code",
      "metadata": {
        "colab": {
          "base_uri": "https://localhost:8080/"
        },
        "id": "-AyGfwtocf7F",
        "outputId": "048bb5e0-8869-4f3f-cf81-fe65ff31598b"
      },
      "source": [
        "import math\n",
        "print(\"Nilai pi adalah:\", math.pi) #math.pi merupakan sintak untuk memanggil fungsi"
      ],
      "execution_count": 12,
      "outputs": [
        {
          "output_type": "stream",
          "text": [
            "Nilai pi adalah: 3.141592653589793\n"
          ],
          "name": "stdout"
        }
      ]
    },
    {
      "cell_type": "code",
      "metadata": {
        "colab": {
          "base_uri": "https://localhost:8080/"
        },
        "id": "NYiwSQ3McQGi",
        "outputId": "923dacb9-fc80-4bab-e301-32a47325fa13"
      },
      "source": [
        "import math as m #menggunakan m sebagai module rename atau alias\n",
        "print(\"Nilai pi adalah:\", m.pi) #m.pi merupakan sintak untuk memanggil fungsi\t\t\t"
      ],
      "execution_count": 13,
      "outputs": [
        {
          "output_type": "stream",
          "text": [
            "Nilai pi adalah: 3.141592653589793\n"
          ],
          "name": "stdout"
        }
      ]
    },
    {
      "cell_type": "markdown",
      "metadata": {
        "id": "FeqIwTFMcl5V"
      },
      "source": [
        "##**Import Half Function**"
      ]
    },
    {
      "cell_type": "code",
      "metadata": {
        "colab": {
          "base_uri": "https://localhost:8080/"
        },
        "id": "lhZyCRrIciR3",
        "outputId": "271edd7d-8526-4b65-ecc5-93437144f81f"
      },
      "source": [
        "from math import pi\n",
        "print(\"Nilai pi adalah\", pi)"
      ],
      "execution_count": 14,
      "outputs": [
        {
          "output_type": "stream",
          "text": [
            "Nilai pi adalah 3.141592653589793\n"
          ],
          "name": "stdout"
        }
      ]
    },
    {
      "cell_type": "markdown",
      "metadata": {
        "id": "91DP7qbvcyUN"
      },
      "source": [
        "##**Import All Modules**"
      ]
    },
    {
      "cell_type": "code",
      "metadata": {
        "colab": {
          "base_uri": "https://localhost:8080/"
        },
        "id": "l0EvuZlJcuzc",
        "outputId": "21274911-d82b-4d58-cb1c-107cabb32f48"
      },
      "source": [
        "from math import *\n",
        "print(\"Nilai e adalah:\",e)"
      ],
      "execution_count": 15,
      "outputs": [
        {
          "output_type": "stream",
          "text": [
            "Nilai e adalah: 2.718281828459045\n"
          ],
          "name": "stdout"
        }
      ]
    },
    {
      "cell_type": "markdown",
      "metadata": {
        "id": "WvNoD_K-c6mz"
      },
      "source": [
        "#**Read File**"
      ]
    },
    {
      "cell_type": "markdown",
      "metadata": {
        "id": "z8nGPN93dP5f"
      },
      "source": [
        "\n",
        "\n",
        "```\n",
        "import csv\n",
        "\n",
        "# tentukan lokasi file, nama file, dan inisialisasi csv\n",
        "f = open('test.csv', 'r')\n",
        "reader = csv.reader(f)\n",
        "\n",
        "# membaca baris per baris\n",
        "for row in reader:\n",
        "     print (row)\n",
        "\n",
        "# menutup file csv\n",
        "f.close()\n",
        "\n",
        "```\n",
        "\n"
      ]
    },
    {
      "cell_type": "markdown",
      "metadata": {
        "id": "xVQVLXuDdYQE"
      },
      "source": [
        "##**Using PANDAS**\n",
        "\n",
        "\n",
        "\n",
        "```\n",
        "import pandas as pd\n",
        "\n",
        "table = pd.read_csv(\"test.csv\")\n",
        "table.head()\n",
        "print(table)\n",
        "```\n",
        "\n"
      ]
    },
    {
      "cell_type": "code",
      "metadata": {
        "id": "qWr0RTI6c-pQ"
      },
      "source": [
        ""
      ],
      "execution_count": null,
      "outputs": []
    }
  ]
}
