{
  "nbformat": 4,
  "nbformat_minor": 0,
  "metadata": {
    "colab": {
      "name": "Introduction to Data Science with Python.ipynb",
      "provenance": [],
      "collapsed_sections": [],
      "authorship_tag": "ABX9TyPB0Btzzxe4G4uF+RjMOhS7"
    },
    "kernelspec": {
      "name": "python3",
      "display_name": "Python 3"
    },
    "language_info": {
      "name": "python"
    }
  },
  "cells": [
    {
      "cell_type": "markdown",
      "metadata": {
        "id": "-3OOgrfHesCc"
      },
      "source": [
        "#**Python**\n",
        "\n",
        "Python adalah salah satu bahasa pemrograman :\n",
        "\n",
        "*   ***high-level programming language*** (mudah dimengerti manusia)\n",
        "*   ***generel-purpose programming***(web, mobile, data science, dll)\n",
        "*   ***Open source***\n",
        "\n",
        "\n",
        "\n",
        "\n"
      ]
    },
    {
      "cell_type": "markdown",
      "metadata": {
        "id": "seU3dv6ngdnC"
      },
      "source": [
        "#**List Library**\n",
        "\n",
        "\n",
        "1.  **Numpy** (numerical python)  \n",
        "Digunakan untuk pendefinisian array 1D, 2D, 3D atau nD, dan juga memiliki fungsi-fungsi untuk aljabar linier.\n",
        "2. **Scipy** (Scientific Python)  \n",
        "Digunakan untuk keperluan komputasi saintifik seperti keperluan aljabar linier, integrasi dan diferensiasi numerik, transformasi Fourier, optimasi, interpolasi, statistik dan yang lainnya.\n",
        "3. **Pandas**  \n",
        "Digunakan untuk pengolahan data dalam bentuk tabular (seperti excel) yang merupakan de facto library bagi data scientist dalam mengolah data dari berbagai sumber seperti file CSV, TSV, Excel, SQL queries, Google BigQuery, SAS, Stata, SPSS, dsb.\n",
        "4. **Matplotlib**  \n",
        "Digunakan untuk memvisualisasikan data ke berbagai bentuk grafik 2D atau 3D, seperti line chart, bar chart, histogram, polar chart, error bar plot, dan jenis grafik lainnya.\n",
        "5. **Scikit-learn**  \n",
        "Scipy Toolkit yang ditujukan untuk menghasilkan model predictive dengan menggunakan machine learning.\n",
        "6. **Seaborn**  \n",
        "Library yang dibuat dari matplotlib yang ditujukan oleh visualisasi grafik statistik dengan warna yang menawan, terintegrasi dengan baik dengan pandas.\n",
        "\n",
        "\n"
      ]
    },
    {
      "cell_type": "markdown",
      "metadata": {
        "id": "60g6v3c9btDP"
      },
      "source": [
        "#**Python Variable**\n",
        "\n",
        "\n",
        "\n",
        "\n",
        "1.   Harus dimulai dengan abjad (a-z, A-Z) atau (_) dan tidak dapat dimulai dengan angka (0-9)\n",
        "2.   Hanya boleh mengadung karakter abjad, angka dan *underscore*\n",
        "\n",
        "\n",
        "\n",
        "\n",
        "\n",
        "\n",
        "\n"
      ]
    },
    {
      "cell_type": "code",
      "metadata": {
        "id": "XHrCdpSlbm2X"
      },
      "source": [
        "bil1 = 10\n",
        "Bil_2 = 20\n",
        "Frasa = \"Halo Dunia\"\n",
        "bil1, Bil_2 = 10, 20\n",
        "salam = \"Selamat Pagi\"; Penutup = \"Salam Sejahtera\""
      ],
      "execution_count": null,
      "outputs": []
    },
    {
      "cell_type": "markdown",
      "metadata": {
        "id": "AGzaU-UTdWVG"
      },
      "source": [
        "#**Python Comments**\n",
        "\n",
        "Tidak akan mempengaruhi hasil dari sebuah program"
      ]
    },
    {
      "cell_type": "code",
      "metadata": {
        "id": "c6bC4p5reXMa"
      },
      "source": [
        "#perintah pada baris ini tidak mempengaruhi program\n",
        "'''\n",
        "perintah ini tidka akan dieksekusi oleh Python\n",
        "dan perintah ini juga tidak akan dieksekusi\n",
        "perintah ini juga tidak akan dieksekusi\n",
        "'''\n",
        "print(\"jadi # digunakan untuk membuat comment pada Python\")"
      ],
      "execution_count": null,
      "outputs": []
    },
    {
      "cell_type": "markdown",
      "metadata": {
        "id": "84XpNXWaiz0q"
      },
      "source": [
        "#**Data Type**\n",
        "\n",
        "\n",
        "*   **NoneType**  \n",
        "    Hanya memiliki satu nilai none\n",
        "*   **Numeric**\n",
        "    *   **int**   : Seluruh bilangan bulat\n",
        "    *   **float** : Seluruh bilangan riil\n",
        "*   **Boolean**\n",
        "    *   **bool**  : True dan False\n",
        "*   **Sequence**\n",
        "    *   **str**   : string ( ' ' / \" \" )\n",
        "    *   **list**  : []\n",
        "    *   **tuple** : ()\n",
        "*   **Set**\n",
        "    *   **set**   : {}\n",
        "\n",
        "\n",
        "\n"
      ]
    },
    {
      "cell_type": "code",
      "metadata": {
        "id": "eiqWbAj6kq6Z"
      },
      "source": [
        "text = \"Belajar Python di DQLab.\"\n",
        "print(list(text))\n",
        "print(tuple(text))\n",
        "print(set(text))"
      ],
      "execution_count": null,
      "outputs": []
    },
    {
      "cell_type": "markdown",
      "metadata": {
        "id": "XJtDT9p8k8ip"
      },
      "source": [
        "#**Import Library**"
      ]
    },
    {
      "cell_type": "code",
      "metadata": {
        "id": "93Y7zJODk0CD"
      },
      "source": [
        "import math\n",
        "import numpy as np\n",
        "import pandas as pd\n",
        "import seaborn as sns"
      ],
      "execution_count": null,
      "outputs": []
    }
  ]
}