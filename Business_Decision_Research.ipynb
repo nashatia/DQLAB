{
  "nbformat": 4,
  "nbformat_minor": 0,
  "metadata": {
    "colab": {
      "name": "Business Decision Research.ipynb",
      "provenance": [],
      "collapsed_sections": [],
      "authorship_tag": "ABX9TyOFhEcnC5BfI9sx8yjrfThX",
      "include_colab_link": true
    },
    "kernelspec": {
      "name": "python3",
      "display_name": "Python 3"
    },
    "language_info": {
      "name": "python"
    }
  },
  "cells": [
    {
      "cell_type": "markdown",
      "metadata": {
        "id": "view-in-github",
        "colab_type": "text"
      },
      "source": [
        "<a href=\"https://colab.research.google.com/github/nashatia/DQLAB/blob/main/Business_Decision_Research.ipynb\" target=\"_parent\"><img src=\"https://colab.research.google.com/assets/colab-badge.svg\" alt=\"Open In Colab\"/></a>"
      ]
    },
    {
      "cell_type": "markdown",
      "metadata": {
        "id": "DBoo-suTQm0P"
      },
      "source": [
        "### **Market Research and Recommendation and Visualization Technique for Business Decision Making**"
      ]
    },
    {
      "cell_type": "markdown",
      "metadata": {
        "id": "u_Xqwo-sfXqj"
      },
      "source": [
        "DQLab sport center adalah toko yang menjual berbagai kebutuhan olahraga seperti Jaket, Baju, Tas, dan Sepatu. Toko ini mulai berjualan sejak tahun 2013, sehingga sudah memiliki pelanggan tetap sejak lama, dan tetap berusaha untuk mendapatkan pelanggan baru sampai saat ini.\n",
        "\n",
        "Di awal tahun 2019,   manajer toko tersebut merekrut junior DA untuk membantu  memecahkan masalah yang ada di tokonya, yaitu menurunnya pelanggan yang membeli kembali ke tokonya.  Junior DA tersebut pun diberi kepercayaan mengolah data transaksi toko tersebut. Manajer toko mendefinisikan bahwa customer termasuk sudah bukan disebut pelanggan lagi (churn) ketika dia sudah tidak bertransaksi ke tokonya lagi sampai dengan 6 bulan terakhir dari update data terakhir yang tersedia.  \n",
        "\n",
        "Manajer toko pun memberikan data transaksi dari tahun 2013 sampai dengan 2019 dalam bentuk csv (comma separated value) dengan data_retail.csv dengan jumlah baris 100.000 baris data."
      ]
    },
    {
      "cell_type": "markdown",
      "metadata": {
        "id": "UyYbn-Ih9YfS"
      },
      "source": [
        "Field yang ada pada data tersebut antara lain:\n",
        "\n",
        "* No\n",
        "* Row_Num\n",
        "* Customer_ID\n",
        "* Product\n",
        "* First_Transaction\n",
        "* Last_Transaction\n",
        "* Average_Transaction_Amount\n",
        "* Count_Transaction"
      ]
    },
    {
      "cell_type": "markdown",
      "metadata": {
        "id": "gHCvV_rd8dGU"
      },
      "source": [
        "Apakah faktor yang menyebabkan terjadinya penurunan pelanggan?"
      ]
    },
    {
      "cell_type": "markdown",
      "metadata": {
        "id": "rgpG9rrKfhFc"
      },
      "source": [
        "###**Data preparation**"
      ]
    },
    {
      "cell_type": "markdown",
      "metadata": {
        "id": "srn3itKdQxI8"
      },
      "source": [
        "####**Import Library**"
      ]
    },
    {
      "cell_type": "code",
      "metadata": {
        "id": "_EhmNyQiP16z"
      },
      "source": [
        "import pandas as pd\n",
        "import matplotlib.pyplot as plt\n",
        "import seaborn as sns\n",
        "import numpy as np\n",
        "from sklearn.model_selection import train_test_split\n",
        "from sklearn.linear_model import LogisticRegression\n",
        "from sklearn.metrics import confusion_matrix\n",
        "from sklearn.preprocessing import LabelEncoder"
      ],
      "execution_count": null,
      "outputs": []
    },
    {
      "cell_type": "markdown",
      "metadata": {
        "id": "l_EdIkSkQ9uY"
      },
      "source": [
        "####**Read Data**"
      ]
    },
    {
      "cell_type": "code",
      "metadata": {
        "id": "F2lIB2nCQ1h0"
      },
      "source": [
        "df = pd.read_csv('https://dqlab-dataset.s3-ap-southeast-1.amazonaws.com/data_retail.csv', sep=';')"
      ],
      "execution_count": null,
      "outputs": []
    },
    {
      "cell_type": "code",
      "metadata": {
        "colab": {
          "base_uri": "https://localhost:8080/",
          "height": 241
        },
        "id": "Z7xmpDJJQ8sn",
        "outputId": "0a1578f3-44fa-4c29-981b-18d2804ee210"
      },
      "source": [
        "print('Lima data teratas:')\n",
        "df.head()"
      ],
      "execution_count": null,
      "outputs": [
        {
          "output_type": "stream",
          "name": "stdout",
          "text": [
            "Lima data teratas:\n"
          ]
        },
        {
          "output_type": "execute_result",
          "data": {
            "text/html": [
              "<div>\n",
              "<style scoped>\n",
              "    .dataframe tbody tr th:only-of-type {\n",
              "        vertical-align: middle;\n",
              "    }\n",
              "\n",
              "    .dataframe tbody tr th {\n",
              "        vertical-align: top;\n",
              "    }\n",
              "\n",
              "    .dataframe thead th {\n",
              "        text-align: right;\n",
              "    }\n",
              "</style>\n",
              "<table border=\"1\" class=\"dataframe\">\n",
              "  <thead>\n",
              "    <tr style=\"text-align: right;\">\n",
              "      <th></th>\n",
              "      <th>no</th>\n",
              "      <th>Row_Num</th>\n",
              "      <th>Customer_ID</th>\n",
              "      <th>Product</th>\n",
              "      <th>First_Transaction</th>\n",
              "      <th>Last_Transaction</th>\n",
              "      <th>Average_Transaction_Amount</th>\n",
              "      <th>Count_Transaction</th>\n",
              "    </tr>\n",
              "  </thead>\n",
              "  <tbody>\n",
              "    <tr>\n",
              "      <th>0</th>\n",
              "      <td>1</td>\n",
              "      <td>1</td>\n",
              "      <td>29531</td>\n",
              "      <td>Jaket</td>\n",
              "      <td>1466304274396</td>\n",
              "      <td>1538718482608</td>\n",
              "      <td>1467681</td>\n",
              "      <td>22</td>\n",
              "    </tr>\n",
              "    <tr>\n",
              "      <th>1</th>\n",
              "      <td>2</td>\n",
              "      <td>2</td>\n",
              "      <td>29531</td>\n",
              "      <td>Sepatu</td>\n",
              "      <td>1406077331494</td>\n",
              "      <td>1545735761270</td>\n",
              "      <td>1269337</td>\n",
              "      <td>41</td>\n",
              "    </tr>\n",
              "    <tr>\n",
              "      <th>2</th>\n",
              "      <td>3</td>\n",
              "      <td>3</td>\n",
              "      <td>141526</td>\n",
              "      <td>Tas</td>\n",
              "      <td>1493349147000</td>\n",
              "      <td>1548322802000</td>\n",
              "      <td>310915</td>\n",
              "      <td>30</td>\n",
              "    </tr>\n",
              "    <tr>\n",
              "      <th>3</th>\n",
              "      <td>4</td>\n",
              "      <td>4</td>\n",
              "      <td>141526</td>\n",
              "      <td>Jaket</td>\n",
              "      <td>1493362372547</td>\n",
              "      <td>1547643603911</td>\n",
              "      <td>722632</td>\n",
              "      <td>27</td>\n",
              "    </tr>\n",
              "    <tr>\n",
              "      <th>4</th>\n",
              "      <td>5</td>\n",
              "      <td>5</td>\n",
              "      <td>37545</td>\n",
              "      <td>Sepatu</td>\n",
              "      <td>1429178498531</td>\n",
              "      <td>1542891221530</td>\n",
              "      <td>1775036</td>\n",
              "      <td>25</td>\n",
              "    </tr>\n",
              "  </tbody>\n",
              "</table>\n",
              "</div>"
            ],
            "text/plain": [
              "   no  Row_Num  ...  Average_Transaction_Amount Count_Transaction\n",
              "0   1        1  ...                     1467681                22\n",
              "1   2        2  ...                     1269337                41\n",
              "2   3        3  ...                      310915                30\n",
              "3   4        4  ...                      722632                27\n",
              "4   5        5  ...                     1775036                25\n",
              "\n",
              "[5 rows x 8 columns]"
            ]
          },
          "metadata": {},
          "execution_count": 3
        }
      ]
    },
    {
      "cell_type": "code",
      "metadata": {
        "colab": {
          "base_uri": "https://localhost:8080/"
        },
        "id": "JUa6E9cfRLiG",
        "outputId": "4b0b36df-e64f-40a1-f031-230e6245ab5e"
      },
      "source": [
        "print('\\nInfo dataset:')\n",
        "print(df.info())"
      ],
      "execution_count": null,
      "outputs": [
        {
          "output_type": "stream",
          "name": "stdout",
          "text": [
            "\n",
            "Info dataset:\n",
            "<class 'pandas.core.frame.DataFrame'>\n",
            "RangeIndex: 100000 entries, 0 to 99999\n",
            "Data columns (total 8 columns):\n",
            " #   Column                      Non-Null Count   Dtype \n",
            "---  ------                      --------------   ----- \n",
            " 0   no                          100000 non-null  int64 \n",
            " 1   Row_Num                     100000 non-null  int64 \n",
            " 2   Customer_ID                 100000 non-null  int64 \n",
            " 3   Product                     100000 non-null  object\n",
            " 4   First_Transaction           100000 non-null  int64 \n",
            " 5   Last_Transaction            100000 non-null  int64 \n",
            " 6   Average_Transaction_Amount  100000 non-null  int64 \n",
            " 7   Count_Transaction           100000 non-null  int64 \n",
            "dtypes: int64(7), object(1)\n",
            "memory usage: 6.1+ MB\n",
            "None\n"
          ]
        }
      ]
    },
    {
      "cell_type": "code",
      "metadata": {
        "id": "CpQUsUFYRM_B"
      },
      "source": [
        "df['First_Transaction'] = pd.to_datetime(df['First_Transaction']/1000, unit='s', origin='1970-01-01')\n",
        "df['Last_Transaction'] = pd.to_datetime(df['Last_Transaction']/1000, unit='s', origin='1970-01-01')"
      ],
      "execution_count": null,
      "outputs": []
    },
    {
      "cell_type": "code",
      "metadata": {
        "colab": {
          "base_uri": "https://localhost:8080/",
          "height": 326
        },
        "id": "R2JWc55tSYQE",
        "outputId": "be052217-50e2-43d6-afa6-11d316939e8c"
      },
      "source": [
        "print('Lima data teratas:')\n",
        "df.head()"
      ],
      "execution_count": null,
      "outputs": [
        {
          "output_type": "stream",
          "name": "stdout",
          "text": [
            "Lima data teratas:\n"
          ]
        },
        {
          "output_type": "execute_result",
          "data": {
            "text/html": [
              "<div>\n",
              "<style scoped>\n",
              "    .dataframe tbody tr th:only-of-type {\n",
              "        vertical-align: middle;\n",
              "    }\n",
              "\n",
              "    .dataframe tbody tr th {\n",
              "        vertical-align: top;\n",
              "    }\n",
              "\n",
              "    .dataframe thead th {\n",
              "        text-align: right;\n",
              "    }\n",
              "</style>\n",
              "<table border=\"1\" class=\"dataframe\">\n",
              "  <thead>\n",
              "    <tr style=\"text-align: right;\">\n",
              "      <th></th>\n",
              "      <th>no</th>\n",
              "      <th>Row_Num</th>\n",
              "      <th>Customer_ID</th>\n",
              "      <th>Product</th>\n",
              "      <th>First_Transaction</th>\n",
              "      <th>Last_Transaction</th>\n",
              "      <th>Average_Transaction_Amount</th>\n",
              "      <th>Count_Transaction</th>\n",
              "    </tr>\n",
              "  </thead>\n",
              "  <tbody>\n",
              "    <tr>\n",
              "      <th>0</th>\n",
              "      <td>1</td>\n",
              "      <td>1</td>\n",
              "      <td>29531</td>\n",
              "      <td>Jaket</td>\n",
              "      <td>2016-06-19 02:44:34.395999908</td>\n",
              "      <td>2018-10-05 05:48:02.608000040</td>\n",
              "      <td>1467681</td>\n",
              "      <td>22</td>\n",
              "    </tr>\n",
              "    <tr>\n",
              "      <th>1</th>\n",
              "      <td>2</td>\n",
              "      <td>2</td>\n",
              "      <td>29531</td>\n",
              "      <td>Sepatu</td>\n",
              "      <td>2014-07-23 01:02:11.493999958</td>\n",
              "      <td>2018-12-25 11:02:41.269999981</td>\n",
              "      <td>1269337</td>\n",
              "      <td>41</td>\n",
              "    </tr>\n",
              "    <tr>\n",
              "      <th>2</th>\n",
              "      <td>3</td>\n",
              "      <td>3</td>\n",
              "      <td>141526</td>\n",
              "      <td>Tas</td>\n",
              "      <td>2017-04-28 03:12:27.000000000</td>\n",
              "      <td>2019-01-24 09:40:02.000000000</td>\n",
              "      <td>310915</td>\n",
              "      <td>30</td>\n",
              "    </tr>\n",
              "    <tr>\n",
              "      <th>3</th>\n",
              "      <td>4</td>\n",
              "      <td>4</td>\n",
              "      <td>141526</td>\n",
              "      <td>Jaket</td>\n",
              "      <td>2017-04-28 06:52:52.546999931</td>\n",
              "      <td>2019-01-16 13:00:03.911000013</td>\n",
              "      <td>722632</td>\n",
              "      <td>27</td>\n",
              "    </tr>\n",
              "    <tr>\n",
              "      <th>4</th>\n",
              "      <td>5</td>\n",
              "      <td>5</td>\n",
              "      <td>37545</td>\n",
              "      <td>Sepatu</td>\n",
              "      <td>2015-04-16 10:01:38.530999899</td>\n",
              "      <td>2018-11-22 12:53:41.529999970</td>\n",
              "      <td>1775036</td>\n",
              "      <td>25</td>\n",
              "    </tr>\n",
              "  </tbody>\n",
              "</table>\n",
              "</div>"
            ],
            "text/plain": [
              "   no  Row_Num  ...  Average_Transaction_Amount Count_Transaction\n",
              "0   1        1  ...                     1467681                22\n",
              "1   2        2  ...                     1269337                41\n",
              "2   3        3  ...                      310915                30\n",
              "3   4        4  ...                      722632                27\n",
              "4   5        5  ...                     1775036                25\n",
              "\n",
              "[5 rows x 8 columns]"
            ]
          },
          "metadata": {},
          "execution_count": 6
        }
      ]
    },
    {
      "cell_type": "code",
      "metadata": {
        "colab": {
          "base_uri": "https://localhost:8080/"
        },
        "id": "L4arhDggRqK-",
        "outputId": "d9e42224-3803-437c-b6b7-f6175a8e0d21"
      },
      "source": [
        "print('\\nInfo dataset:')\n",
        "print(df.info())"
      ],
      "execution_count": null,
      "outputs": [
        {
          "output_type": "stream",
          "name": "stdout",
          "text": [
            "\n",
            "Info dataset:\n",
            "<class 'pandas.core.frame.DataFrame'>\n",
            "RangeIndex: 100000 entries, 0 to 99999\n",
            "Data columns (total 8 columns):\n",
            " #   Column                      Non-Null Count   Dtype         \n",
            "---  ------                      --------------   -----         \n",
            " 0   no                          100000 non-null  int64         \n",
            " 1   Row_Num                     100000 non-null  int64         \n",
            " 2   Customer_ID                 100000 non-null  int64         \n",
            " 3   Product                     100000 non-null  object        \n",
            " 4   First_Transaction           100000 non-null  datetime64[ns]\n",
            " 5   Last_Transaction            100000 non-null  datetime64[ns]\n",
            " 6   Average_Transaction_Amount  100000 non-null  int64         \n",
            " 7   Count_Transaction           100000 non-null  int64         \n",
            "dtypes: datetime64[ns](2), int64(5), object(1)\n",
            "memory usage: 6.1+ MB\n",
            "None\n"
          ]
        }
      ]
    },
    {
      "cell_type": "markdown",
      "metadata": {
        "id": "X21Fx-D0SmdE"
      },
      "source": [
        "####**Churn Customers**\n",
        "\n",
        "1. Kapan terakhir kali transaksi dilakukan?\n",
        "2. Klasifikasi customer berstatus churn/tidak\n"
      ]
    },
    {
      "cell_type": "code",
      "metadata": {
        "colab": {
          "base_uri": "https://localhost:8080/"
        },
        "id": "UP6bMdmLRuQ8",
        "outputId": "57c15b22-0de2-488b-e02f-6c32bbfa0220"
      },
      "source": [
        "# Transaksi terakhir\n",
        "print(max(df['Last_Transaction']))"
      ],
      "execution_count": null,
      "outputs": [
        {
          "output_type": "stream",
          "name": "stdout",
          "text": [
            "2019-02-01 23:57:57.286000013\n"
          ]
        }
      ]
    },
    {
      "cell_type": "code",
      "metadata": {
        "id": "9HyIZdnBSutP"
      },
      "source": [
        "df.loc[df['Last_Transaction'] <= '2018-08-01', 'is_churn'] = True \n",
        "df.loc[df['Last_Transaction'] > '2018-08-01', 'is_churn'] = False"
      ],
      "execution_count": null,
      "outputs": []
    },
    {
      "cell_type": "code",
      "metadata": {
        "colab": {
          "base_uri": "https://localhost:8080/",
          "height": 326
        },
        "id": "kkOCv7dHTfvL",
        "outputId": "5b66fc99-3a82-4f54-dc68-2be549d0185f"
      },
      "source": [
        "print('Lima data teratas:')\n",
        "df.head()"
      ],
      "execution_count": null,
      "outputs": [
        {
          "output_type": "stream",
          "name": "stdout",
          "text": [
            "Lima data teratas:\n"
          ]
        },
        {
          "output_type": "execute_result",
          "data": {
            "text/html": [
              "<div>\n",
              "<style scoped>\n",
              "    .dataframe tbody tr th:only-of-type {\n",
              "        vertical-align: middle;\n",
              "    }\n",
              "\n",
              "    .dataframe tbody tr th {\n",
              "        vertical-align: top;\n",
              "    }\n",
              "\n",
              "    .dataframe thead th {\n",
              "        text-align: right;\n",
              "    }\n",
              "</style>\n",
              "<table border=\"1\" class=\"dataframe\">\n",
              "  <thead>\n",
              "    <tr style=\"text-align: right;\">\n",
              "      <th></th>\n",
              "      <th>no</th>\n",
              "      <th>Row_Num</th>\n",
              "      <th>Customer_ID</th>\n",
              "      <th>Product</th>\n",
              "      <th>First_Transaction</th>\n",
              "      <th>Last_Transaction</th>\n",
              "      <th>Average_Transaction_Amount</th>\n",
              "      <th>Count_Transaction</th>\n",
              "      <th>is_churn</th>\n",
              "    </tr>\n",
              "  </thead>\n",
              "  <tbody>\n",
              "    <tr>\n",
              "      <th>0</th>\n",
              "      <td>1</td>\n",
              "      <td>1</td>\n",
              "      <td>29531</td>\n",
              "      <td>Jaket</td>\n",
              "      <td>2016-06-19 02:44:34.395999908</td>\n",
              "      <td>2018-10-05 05:48:02.608000040</td>\n",
              "      <td>1467681</td>\n",
              "      <td>22</td>\n",
              "      <td>False</td>\n",
              "    </tr>\n",
              "    <tr>\n",
              "      <th>1</th>\n",
              "      <td>2</td>\n",
              "      <td>2</td>\n",
              "      <td>29531</td>\n",
              "      <td>Sepatu</td>\n",
              "      <td>2014-07-23 01:02:11.493999958</td>\n",
              "      <td>2018-12-25 11:02:41.269999981</td>\n",
              "      <td>1269337</td>\n",
              "      <td>41</td>\n",
              "      <td>False</td>\n",
              "    </tr>\n",
              "    <tr>\n",
              "      <th>2</th>\n",
              "      <td>3</td>\n",
              "      <td>3</td>\n",
              "      <td>141526</td>\n",
              "      <td>Tas</td>\n",
              "      <td>2017-04-28 03:12:27.000000000</td>\n",
              "      <td>2019-01-24 09:40:02.000000000</td>\n",
              "      <td>310915</td>\n",
              "      <td>30</td>\n",
              "      <td>False</td>\n",
              "    </tr>\n",
              "    <tr>\n",
              "      <th>3</th>\n",
              "      <td>4</td>\n",
              "      <td>4</td>\n",
              "      <td>141526</td>\n",
              "      <td>Jaket</td>\n",
              "      <td>2017-04-28 06:52:52.546999931</td>\n",
              "      <td>2019-01-16 13:00:03.911000013</td>\n",
              "      <td>722632</td>\n",
              "      <td>27</td>\n",
              "      <td>False</td>\n",
              "    </tr>\n",
              "    <tr>\n",
              "      <th>4</th>\n",
              "      <td>5</td>\n",
              "      <td>5</td>\n",
              "      <td>37545</td>\n",
              "      <td>Sepatu</td>\n",
              "      <td>2015-04-16 10:01:38.530999899</td>\n",
              "      <td>2018-11-22 12:53:41.529999970</td>\n",
              "      <td>1775036</td>\n",
              "      <td>25</td>\n",
              "      <td>False</td>\n",
              "    </tr>\n",
              "  </tbody>\n",
              "</table>\n",
              "</div>"
            ],
            "text/plain": [
              "   no  Row_Num  ...  Count_Transaction is_churn\n",
              "0   1        1  ...                 22    False\n",
              "1   2        2  ...                 41    False\n",
              "2   3        3  ...                 30    False\n",
              "3   4        4  ...                 27    False\n",
              "4   5        5  ...                 25    False\n",
              "\n",
              "[5 rows x 9 columns]"
            ]
          },
          "metadata": {},
          "execution_count": 10
        }
      ]
    },
    {
      "cell_type": "code",
      "metadata": {
        "colab": {
          "base_uri": "https://localhost:8080/"
        },
        "id": "HiZCdJnBTi7c",
        "outputId": "f8faccd3-499d-46e4-e78f-ba1d9762596f"
      },
      "source": [
        "print('\\nInfo dataset:')\n",
        "print(df.info())"
      ],
      "execution_count": null,
      "outputs": [
        {
          "output_type": "stream",
          "name": "stdout",
          "text": [
            "\n",
            "Info dataset:\n",
            "<class 'pandas.core.frame.DataFrame'>\n",
            "RangeIndex: 100000 entries, 0 to 99999\n",
            "Data columns (total 9 columns):\n",
            " #   Column                      Non-Null Count   Dtype         \n",
            "---  ------                      --------------   -----         \n",
            " 0   no                          100000 non-null  int64         \n",
            " 1   Row_Num                     100000 non-null  int64         \n",
            " 2   Customer_ID                 100000 non-null  int64         \n",
            " 3   Product                     100000 non-null  object        \n",
            " 4   First_Transaction           100000 non-null  datetime64[ns]\n",
            " 5   Last_Transaction            100000 non-null  datetime64[ns]\n",
            " 6   Average_Transaction_Amount  100000 non-null  int64         \n",
            " 7   Count_Transaction           100000 non-null  int64         \n",
            " 8   is_churn                    100000 non-null  object        \n",
            "dtypes: datetime64[ns](2), int64(5), object(2)\n",
            "memory usage: 6.9+ MB\n",
            "None\n"
          ]
        }
      ]
    },
    {
      "cell_type": "code",
      "metadata": {
        "colab": {
          "base_uri": "https://localhost:8080/"
        },
        "id": "5IZv_p5kHA8x",
        "outputId": "b7d193e8-028a-4cfd-9130-0524b1b8a8f1"
      },
      "source": [
        "# Convert feature/column 'Month'\n",
        "LE = LabelEncoder()\n",
        "df['is_churn'] = LE.fit_transform(df['is_churn'])\n",
        "print(LE.classes_)\n",
        "print(np.sort(df['is_churn'].unique()))\n",
        "print('')"
      ],
      "execution_count": null,
      "outputs": [
        {
          "output_type": "stream",
          "name": "stdout",
          "text": [
            "[False True]\n",
            "[0 1]\n",
            "\n"
          ]
        }
      ]
    },
    {
      "cell_type": "code",
      "metadata": {
        "colab": {
          "base_uri": "https://localhost:8080/"
        },
        "id": "ia3DPAjPLTpU",
        "outputId": "b0831ae9-6c6b-48e5-ad66-0f4e1698e5e7"
      },
      "source": [
        "df['is_churn']"
      ],
      "execution_count": null,
      "outputs": [
        {
          "output_type": "execute_result",
          "data": {
            "text/plain": [
              "0        0\n",
              "1        0\n",
              "2        0\n",
              "3        0\n",
              "4        0\n",
              "        ..\n",
              "99995    1\n",
              "99996    1\n",
              "99997    1\n",
              "99998    1\n",
              "99999    0\n",
              "Name: is_churn, Length: 100000, dtype: int64"
            ]
          },
          "metadata": {},
          "execution_count": 13
        }
      ]
    },
    {
      "cell_type": "code",
      "metadata": {
        "colab": {
          "base_uri": "https://localhost:8080/"
        },
        "id": "2YFD5Kk0TkU7",
        "outputId": "0a8f44f7-5849-40fc-d1ec-cdcac7f9e209"
      },
      "source": [
        "# Hapus kolom-kolom yang tidak diperlukan\n",
        "del df['no']\n",
        "del df['Row_Num']\n",
        "\n",
        "# Cetak lima data teratas\n",
        "print(df.head())"
      ],
      "execution_count": null,
      "outputs": [
        {
          "output_type": "stream",
          "name": "stdout",
          "text": [
            "   Customer_ID Product  ... Count_Transaction is_churn\n",
            "0        29531   Jaket  ...                22        0\n",
            "1        29531  Sepatu  ...                41        0\n",
            "2       141526     Tas  ...                30        0\n",
            "3       141526   Jaket  ...                27        0\n",
            "4        37545  Sepatu  ...                25        0\n",
            "\n",
            "[5 rows x 7 columns]\n"
          ]
        }
      ]
    },
    {
      "cell_type": "markdown",
      "metadata": {
        "id": "4AWEsdo0fpx8"
      },
      "source": [
        "###**Data Visualization**"
      ]
    },
    {
      "cell_type": "code",
      "metadata": {
        "id": "2kQapgfw0xdn"
      },
      "source": [
        "# Kolom tahun transaksi pertama\n",
        "df['Year_First_Transaction'] = df['First_Transaction'].dt.year\n",
        "# Kolom tahun transaksi terakhir\n",
        "df['Year_Last_Transaction'] = df['Last_Transaction'].dt.year"
      ],
      "execution_count": null,
      "outputs": []
    },
    {
      "cell_type": "markdown",
      "metadata": {
        "id": "EiFTWNh0njrz"
      },
      "source": [
        "####**Customer Acquisition by year**\n",
        "Customer acquisition adalah proses  untuk mendatangkan pelanggan ke bisnis yang ditawarkan"
      ]
    },
    {
      "cell_type": "code",
      "metadata": {
        "colab": {
          "base_uri": "https://localhost:8080/",
          "height": 297
        },
        "id": "p4bS56pYnf7P",
        "outputId": "fb8a24ff-4672-4abb-90ff-cd5445b92615"
      },
      "source": [
        "df_year = df.groupby(['Year_First_Transaction'])['Customer_ID'].count()\n",
        "df_year.plot(x='Year_First_Transaction', y='Customer_ID', kind='bar', title='Graph of Customer Acquisition')\n",
        "plt.xlabel('Year_First_Transaction')\n",
        "plt.ylabel('Num_of_Customer')\n",
        "plt.tight_layout()\n",
        "plt.show()"
      ],
      "execution_count": null,
      "outputs": [
        {
          "output_type": "display_data",
          "data": {
            "image/png": "[encoded data removed]",
            "text/plain": [
              "<Figure size 432x288 with 1 Axes>"
            ]
          },
          "metadata": {
            "needs_background": "light"
          }
        }
      ]
    },
    {
      "cell_type": "markdown",
      "metadata": {
        "id": "eiNgznhfoNBs"
      },
      "source": [
        "Berdasarkan visualisasi bar chart, dapat diketahui bahwa :\n",
        "* **Jumlah pelanggan tertinggi** yang pernah didapatkan diraih pada tahun **2017** dengan jumlah **lebih dari 30000** \n",
        "* **Jumlah pelanggan terendah** terjadi pada tahun **2013** dengan perolehan **kurang dari 5000**\n",
        " \n",
        "\n"
      ]
    },
    {
      "cell_type": "markdown",
      "metadata": {
        "id": "DgR1iSeUsRxr"
      },
      "source": [
        "####**Transaction by year**"
      ]
    },
    {
      "cell_type": "code",
      "metadata": {
        "id": "E9BH-kDJoLHx",
        "colab": {
          "base_uri": "https://localhost:8080/",
          "height": 297
        },
        "outputId": "418de208-190f-415f-9775-a4c5fc263569"
      },
      "source": [
        "plt.clf()\n",
        "df_year = df.groupby(['Year_First_Transaction'])['Count_Transaction'].sum()\n",
        "df_year.plot(x='Year_First_Transaction', y='Count_Transaction', kind='bar', title='Graph of Transaction Customer')\n",
        "plt.xlabel('Year_First_Transaction')\n",
        "plt.ylabel('Num_of_Transaction')\n",
        "plt.tight_layout()\n",
        "plt.show()"
      ],
      "execution_count": null,
      "outputs": [
        {
          "output_type": "display_data",
          "data": {
            "image/png": "[encoded data removed]",
            "text/plain": [
              "<Figure size 432x288 with 1 Axes>"
            ]
          },
          "metadata": {
            "needs_background": "light"
          }
        }
      ]
    },
    {
      "cell_type": "markdown",
      "metadata": {
        "id": "qdcXlAvM09DP"
      },
      "source": [
        "Berdasarkan visualisasi bar chart, dapat diketahui bahwa :\n",
        "* **Transaksi tertinggi** terjadi pada tahun **2015** dan **2017** dengan transaksi **lebih dari 250000**\n",
        "* **Transaksi terendah** terjadi pada tahun **2019**\n",
        "\n",
        " \n",
        "\n"
      ]
    },
    {
      "cell_type": "markdown",
      "metadata": {
        "id": "rrQvqHF82TzP"
      },
      "source": [
        "####**Average Transaction amount by Year**\n",
        "Rata-rata jumlah transaksi setiap tahun"
      ]
    },
    {
      "cell_type": "code",
      "metadata": {
        "colab": {
          "base_uri": "https://localhost:8080/",
          "height": 297
        },
        "id": "poWizu0503aj",
        "outputId": "196468f6-73bc-463d-b08d-0971166075c3"
      },
      "source": [
        "plt.clf()\n",
        "sns.pointplot(data = df.groupby(['Product', 'Year_First_Transaction']).mean().reset_index(), \n",
        "              x='Year_First_Transaction', \n",
        "              y='Average_Transaction_Amount', \n",
        "              hue='Product').set(title='Average transaction amount by year')\n",
        "plt.tight_layout()\n",
        "plt.show()"
      ],
      "execution_count": null,
      "outputs": [
        {
          "output_type": "display_data",
          "data": {
            "image/png": "[encoded data removed]",
            "text/plain": [
              "<Figure size 432x288 with 1 Axes>"
            ]
          },
          "metadata": {
            "needs_background": "light"
          }
        }
      ]
    },
    {
      "cell_type": "markdown",
      "metadata": {
        "id": "KNDQygLq2472"
      },
      "source": [
        "Berdasarkan visualisasi, dapat diketahui bahwa :\n",
        "* Transaksi penjualan jaket terus meningkat dari tahun 2015 hingga 2019\n",
        "* Transaksi penjualan baju menurun pada tahun 2019 dibandingkan tahun 2018\n",
        "* Transaksi penjualan tas menurun pada tahun 2019 dibandingkan tahun 2018\n",
        "* Transaksi penjualan sepatu menurun pada tahun 2019 dibandingkan tahun 2018\n",
        "\n",
        "\n",
        " \n",
        "\n"
      ]
    },
    {
      "cell_type": "markdown",
      "metadata": {
        "id": "PmKBo2uE4fmR"
      },
      "source": [
        "####**Churned customer on each product**"
      ]
    },
    {
      "cell_type": "code",
      "metadata": {
        "colab": {
          "base_uri": "https://localhost:8080/",
          "height": 531
        },
        "id": "sHp-9Te_4fSt",
        "outputId": "0337b93a-20e9-4b63-f434-27bb083504ba"
      },
      "source": [
        "plt.clf()\n",
        "# Melakukan pivot data dengan pivot_table\n",
        "df_piv = df.pivot_table(index='is_churn', \n",
        "                        columns='Product',\n",
        "                        values='Customer_ID', \n",
        "                        aggfunc='count', \n",
        "                        fill_value=0)\n",
        "# Mendapatkan Proportion Churn by Product\n",
        "plot_product = df_piv.count().sort_values(ascending=False).head(5).index\n",
        "# Plot pie chartnya\n",
        "df_piv = df_piv.reindex(columns=plot_product)\n",
        "df_piv.plot.pie(subplots=True,\n",
        "                figsize=(10, 7),\n",
        "                layout=(-1, 2),\n",
        "                autopct='%1.0f%%',\n",
        "                title='Proportion Churn by Product')\n",
        "plt.tight_layout()\n",
        "plt.show()"
      ],
      "execution_count": null,
      "outputs": [
        {
          "output_type": "display_data",
          "data": {
            "text/plain": [
              "<Figure size 432x288 with 0 Axes>"
            ]
          },
          "metadata": {}
        },
        {
          "output_type": "display_data",
          "data": {
            "image/png": "[encoded data removed]",
            "text/plain": [
              "<Figure size 720x504 with 4 Axes>"
            ]
          },
          "metadata": {}
        }
      ]
    },
    {
      "cell_type": "markdown",
      "metadata": {
        "id": "bE2qW-oQ7CkG"
      },
      "source": [
        "Berdasarkan visualisasi pie chart, dapat diketahui bahwa :\n",
        "\n",
        "> Terjadi churned customer pada setiap produk dengan persentase berkisar 60%-80%.\n",
        "\n",
        "\n",
        "\n",
        "\n",
        "Menurut glints.com, customer churn rate adalah persentase pelanggan yang berhenti menggunakan layanan. Cara menghitung customer churn rate dengan membagi jumlah pelanggan yang ‘hilang’ pada jangka waktu tertentu (katakanlah Q1 tahun) dengan jumlah pelanggan yang didapatkan pada waktu yang sama. \n",
        "\n",
        "`Jika persentase churn rate perusahaanmu tinggi, hal yang terjadi adalah growth rate perusahaanmu menjadi lebih rendah.`"
      ]
    },
    {
      "cell_type": "markdown",
      "metadata": {
        "id": "JcXdwxGb9Psz"
      },
      "source": [
        "Berdasarkan visualisasi, timbul pertanyaan:\n",
        "1. Apakah churn customer disebabkan oleh user produk dari yang ditawarkan kompetitor jauh lebih murah?\n",
        "2. Apakah pelayanan di toko kamu kurang ramah bagi *customer*? \n",
        "3. Bagaiman cara mengatasi churn rate, sehingga tidak merugikan perusahaan?"
      ]
    },
    {
      "cell_type": "markdown",
      "metadata": {
        "id": "RhL6vnN1_ehB"
      },
      "source": [
        "####**Distribusi kategorisasi count transaction**\n",
        "Kategorisasi ini dilakukan dengan mengelompokkan jumlah transaksi"
      ]
    },
    {
      "cell_type": "markdown",
      "metadata": {
        "id": "2d8_CdHLBhpQ"
      },
      "source": [
        "![image.png](data:image/png;base64,iVBORw0KGgoAAAANSUhEUgAAAZQAAACSCAYAAABi6zwJAAAgAElEQVR4Ae1d/2scR5bf/6lhQT8EBAFBfhAYLA4iCMTkh4iABxYiFiICsS4QHC4MgujCERQwYo8VBjPiLjc6wvgwN974xreIyWIYg260+JiAoA8tExxoMLzjVfWX6u9vRt0z3dMfg9FMd/WrV5/6vP5Uvequ+Q3hHxAAAkAACACBAhD4TQE2YAIIAAEgAASAAEFQQAIgAASAABAoBAEISiEwwggQAAJAAAhAUMABIAAEgAAQKAQBCEohMMIIEAACQAAIQFDAASAABIAAECgEAQhKITDCCBAAAkAACEBQwAEgAASAABAoBAEISiEwwggQAAJAAAhkCspnn31G+A8MwAFwABwAByRymSsoEiMoAwSAgEaAb7z4BwRWDQEpryEoq9bzaM9SEZAG3lKdROVAYEYEpLyGoMwILIoDgSwEpIGXZQPngEDVEJDyGoJStZ6DP7VGQBp4tW4knG8cAlJeQ1DKpMabKdmvJjR9U0Il0zH1v+9Q79wmJ8/8LGXzbC3lvEP2eY863/dpPJ3BgTLxT3FDGngpl+NwVRB4bdNkMs2Prar4W7IfUl5XRlCcyy61P92l3d+7/z/Zp8M/9mg4yb1d5kP5xiH7ckzjqwJs5dfmlnBocrpLa5ZFO38YFU5M51WXdt+yaPubYa5gzVKWloJVDqhvpjT8Zpust3ap+0rahw6NH5WHf5rH0sBLu36VjuuY3qejp7bfLOdVj44+36P9b3s0ee0fTvwwnYxp/Momp4wBWWKN7kHHpt69DbKsbTp8PssIJstovc9JeV0dQXlxRNuWRdatHdr9eJda762Txd/f2aee+CaS0mnXA2rflt18UyzMdXj6okPte/fp5DwIqLkMJVw0i0jMUpaWhFVCE4NDcwkKUZn4B86FP0kDL3zVan5z3JhuPRzrAZU9pKMPLbLWd6lzkTMweOPe1D88plGO8BSPnkPjs0Pa/+KI+kUMaIt3cOEWpbyunKD45COHJo/v0waP8D1CkkP2yz51T7vUOzdSSc6UJpdjmlw7NL0cUu/7Lg1euiMbx6bxs2NqvWXR5r0ODV6OaWK7ZJ5OaPikS50fBjSaGCOR6YTGFxOyp1Oa/NSn7lmfhq+M89yd1xMaPu5Q52xAw5cjGr0c0di0wWWmNo0vtF/+yP9VMI12bLcedsdvw5TsiwF1uQ0Xuk7HHlH/rEv9FxN/tJYoEs6Uxuc96n7fo8FFMLLzy349oPHFIIyPSc0UrJyrMY0vbZpym3/oUu8n7YczYb861H06VNh7pvzyU5tGT7vUfTyk8bVxA3mj/eycdqnv9ZN7caLNJEFRfTT2MXeuRioF2HnMvrjG3DLRbvH8LOOvNPDKqLtqNkOC8npM3XubatTfNmYsKi5cTvbPx6RCk2fJL/t0+IFF1rtt6p6bsZVyD+DGK/52qcP8f+HG5KV3n3B0XJ12qPfcrccFzOerwe9ffh6re8DUoG3V8F2kP1JeV1hQeIR5THe8lJFjU//rO3rWwjMXiwWiS+PXROqGuW6RtbmpUkxqZmNZ1PrjiH65OKEdt7x//OQv9JfTfdoKHd+i9pOJGknZT7SQbdxyZ0mq3DYdnesb/PTlCe1uaB88m/x37dMe2cb0fPq8TVvWGu2dTciZDunwPYvWPu6QHvQ4NHrA7dmhkwsnaMM7PNX2bG/S7pf7dOe33neLdr7TKS5fJNyUl31+TLvvBOXYxp1vB8ofr6xlrRm2NT5mvDgpWP2Z003WBm25bd747CGd/kO4L6x39qh76RB5N39rgzZNjG7fp/4VEb0eU+f3Jq4WbX3ZI/tvE+p9lWPTS3ldD+n4I4usDV2n/exQz2493NZadPxiSrofN+j+k+JniGnBLA28tOtX6bgnKDt/GFD/W+7bNdp9OPJTtM6kT0cfhbmw9vEJjX7WsRLEgRtbv6bfA4hnPx+F+a2u37xPg6v4ddYHhzTgFLjBV5/ff/+v9J//OGuKdZV6Lt4WKa8rJyjbX/f0iP95lw7vMtk4j2nT5Id92rDWafcPAzVzGD3aow1rU90s/Bvm+g4d/jCk0XmX7v+dRdZ7hzS0bRo/OVLCtMEzlBd6hmI/O6b2d10aXtpkX3Rp/5ZFa7/rKIHyBMV6v03d5yMaPj5U129+2Sf7V3cq/vYedS6m5Ex6dP+2RdZHR9S/DM9iZhaUtyyy1nbo8GxIw6d6VsU38t3v+jQ871H7fU4JtmlguyJqrKGwH0cHx2r2MLVHdMI37Y196k1csWLbSfiYLvMIL4rV1f/p9QsWzLtH1OPRIh972KbD0wGNr6Y0edJWN/Q7Suzc9Q7Loq3PT2jw05D6D1q05grrL94g4cGQpjyjetqh7oupDuw8m2/tUuflmHpfbJFl3VG8IJUaWfdTo87VkLqnfZWfh6DEbwyLPOIJinXLHeittdTgyfeBZy1ft+nkyYgm1zYNvtshy9qi9p9+JvtFj9rvmjOUrHvAz+562Sbdf8yDtzF1Ptkg6+1dOnl+SS//bY/WLYu2D3o0tm0and1XfN38okf2rwFfQ/yeec3Ob9VKfqitoJijEibX/sMhTX+dUPcTvkHu0ckzPZUdPTum3XWLtr8dkh1doH5jU/+LDXWT4VGxJzixBezXOiVz8t192uEZzu02Da4pPrLl2cW77uzib2M6uWuR9cExjfhm7Eyo8/EaWR+dKDEy2TSPoPg+vh7RMeebvRzymykNvt4ia31PLUwntumNm6J7eET77/Fs5Q4dvwgExbcdwcf0OWbXH8GxLVN9OMMwpsFZh44PWio1uX6vR7YTX0B3Xh6rWSI/nPAL95XCeo+OfhjGFmYzbVrbtHdvh9asddo7dfPyCheeQa3RzlcnfpqQ2wRBMXt28Z99QeGZ49taVDY+77kz9MAflaY+PaHDT3igYFHr0ZicKP+drHvAj/Tjt3pG0eFZMrmzf46V/7n07x29iVunsrWm7ie9V56gGPz2OO/NiANXG/uptoKiZihPdUpp7e6Jvmm/HtMJpzi8lIbxl2+S9l8jTzzxDfPLTT1CTxEU+/mxn7ba/GCHttY4ZXY/XVD8dNWURg94JLVJ+w/71D9tq5SUf7M2KFe0oJhPOkVv/Jw+OPzQnfLf3qE7txivbTpKExQDH8PluPgmBdebKY0e7dOm6ocNuvPhthoBqpRfkqC4qbQ7D/hpN4cmT49pj2d1fP1bO3TIqUaJTaPf73wz8FMndD2izlcsNNrm1r0OjZIGBmZDS/osDbySqq+UWV9Qbt+n3uWEBl+z8G9R+5mbguQZypd8jGfP27Tzvk73qnXUqKDk3AP++idOL1u0/WWH+k9OaJ8zFDzIs917B2crvPGQx+m1FnUu3Bm4KR7eefNYpZBdvDNSXlcu5aXI9Mah0cMWWTwS/X5Cjjc6eWdf5+EjeEZvrpwGyRSU6ZCOOH30fpv6/AQZp00+XRMKih756psp38DW6M6X+gYWcYuSBMXitJpauEhYQzFSWBQNqAjJQ212bBp8tanSZcfP+b0Uh8YKv3IEhddaWmsWbX3R1e+FXA/o/qab584VFBelNw5Nnnd04N9u09P/Fti0LNr4/REd3dMpr6OfvDuEtskPL/S+5fSaRcyjn9VaGNZQorxc1HdPULwHbTgtu8/rfB8eqZv75IxTURu0566rhMpH+S+4B+y97Q5SLIvW7x5Sj2cr3nWc/uU1PP7Hxz7VGQ9/hmKKRyTW3Ksa/afegsJdd+0uzG3yYq5DmnwWbX/VpeFkSlN+quesHyzKmzfjqKBMusRkW/+ko3Ko9v/+mdo8grl7TCN7ShNOnzHRJTMUXhjkdJr79MnIe4orgW4hQXHG1PmdfmTy+OmQho+PqKUCwFiUN9sQDagIyVlQ9tYt2vqqTxNe1/mcc8Z6XWd60aejuzxbmUNQolhdx0dwnMLihyW2v+H1rAkNH+kHHCQzlF8uunR4cEIDftqNR6if6tTkf/wosMkjykuHnKu+Wrda4/7j3PuDNh2djch2+AVIvV7G6TUISgIpF3goJBCqXu/doDXaffSSLtV7Wnrdg9f9ugf6oQw9Q3FTy7fuU++VTbZtZ9wDHJp8v0tra3fo6PGQRi+Dp/84/eXfOw56NLriNRS95qfSb94aCgQlkxn1FxQ3B84zge2vB2T/Ook95cUL2JzXD43W+SmriKCoEYl6UUmPYLb/iXOu4SeKVLrkliTl5dDYfWExlILb2KWjZ+G31kOCwsRWDxYEo6jN2+tk/XY+QSGeZal1ki06PNdPNIWeWuMU3hyCkohVdIFyOqKT38WfqFnnp9wyZyh/ocsn+gGHALs1avEC/fUsNvkGwg9lWNR6cEb/zAuwRjrM4hTLKwdrKJm3iPJPxgVFDxSP+HHgd/bp3//rX2jPfBLQfQpRz2h4lq1fTFV9e/eExtfp9wDvidAQD6wt2nPXYKNPiMae8oKgZBKidoJCr913Nrx3RLh5vMh8OaKR/yw56fdMTjvUfTIk//0CfofjIvwmvHrL9sJ7Bl0/o87vRPD2HeqdEk65vOirdzb4+5TfCfHqib6/4L09zqNqdTNdp42Pj6h71qHOwxM6edCmnbfMR4J139jP2rTJabszfzWQbH5P5sx9T+Q68h6K2Qau81X4TWH1vDy3yX3Wl59oYltDdweA6Sv9Dk7/pwlN3XdgbH4pTIKPSSdHP6zgYRWtVxXlMs+61P1hQGN7Sgpvt0Ni5R1b94/Xt977P6cuDl7ds9hkblyM1PsxDs9M+F2GKC+i/ejVU+JfaeCV6EJ1TCfFtArFMY35fbBrh5zrMQ0ed6n7dKTf++L3yTyecIz+1CN+X2nwMngHSy/iG/cAnr1/e4fWbu3RyVmXOo9O6MR7MMVPdQUcSXwPxYgrBjDG4eqguhRPpLyuzBrKUlCao1I/1XTQ9985mb7sqJEWT6H1eygOTV+NqP8d5/O3qI3tG+ZAup6XSAOvnq2rqNfegv0HRzR0X2p17CEdc9r33UP1oE1FPa+NW1JeQ1Bm7VJ+wfLAfTLFTLO83w62iLH1Vi9q+v3eoXpvZNZqUL6eCEgDr56tq6rXvFWK99RhkFLmJwijaeiqtqDqfkl5DUGZpye9dBlPrR91SaWYjDfkOcU0/qlP/eejIC03Tz24pnYISAOvdg2rgcM65duhk4e8HRBir8guk/IaglIk6rDVeASkgdd4oABArRCQ8jpXUNgQ/gMDcAAcAAeazQGJAuYKisQIygABIKAR4Jsu/gGBVUNAymsIyqr1PNqzVASkgbdUJ1E5EJgRASmvISgzAoviQCALAWngZdnAOSBQNQSkvIagVK3n4E+tEZAGXq0bCecbh4CU1xCUxlEDDS4TAWnglekDbAOBohGQ8hqCUjTyJdizT1vUOk341cGrDrWsNg1LqBMm50NAGnjzWcdVQGA5CEh5DUFZTv/MUKtNnbst6nhbb5tX5grKkNr8Nv8BJMeErczP0sAr04fVsc3c513BO5QwnEpv5nlbbRbaPk8vgjOzISDlNQRlNlyXUHpI7bSAyhIUdc7dhgKCsrB+kwbewhyqbUXuYIgHRGn8T2gbz+a9HYchKAkAzXlIymsIypwAF3eZOwpz9wWLpbbO26F01/Ag2KuoddDOTXmpAIOgFNddOZakgZdjBqc9BHi2MYOg6Mt0TEFQPBBv/lfKawjKzbG+mYVIwAwPwmsiw4Mg3aVHX8H56PckRyAoSaiUd0waeOV5sGKWI/Ehax0ERYaTvJSU1xAUOaallMwWBTPdlRAkWSkv11sISindlmpUGnipBnAijAAEJYzHkr5JeQ1BWVIHhao11jtC0/RQuotzysFsRV0PQQnBWIUv0sCrgq+18AGCUolukvIaglKJ7vKcCIuGme4i0ouUIcGBoHjAVeavNPAq43DVHYGgVKKHpLyGoCy5u+zTtvFIsCkaZrpLO6kW5I0FSr1AH6ypJDUFKa8kVMo7Jg288jxYMctJguLO6EODq1CzE9LDofP4MisCUl5DUGZFttDyNg3PO/pdkehTXhw0saezdKAEj0WyACULil6bCZ4I42tiT5AV2hYYYwSkgQe0chBgIXFjwv/rxYN7Li4o4fjQ10XSxDnV4nQyAlJeQ1CS8Vv6URaEeMAs3S04kIOANPByzOA0EKgUAlJeQ1Aq1W2eM+kzD68E/lYTAWngVdN7eAUEkhGQ8hqCkowfjgKBuRCQBt5cxnEREFgSAlJeQ1CW1EGodjURkAbearYerVpVBKS8hqCsKgPQrqUgIA28pTiHSoHAnAhIeZ0rKGwI/4EBOAAOgAPN5oBEi3IFRWIEZYAAENAI8E0X/4DAqiEg5TUEZdV6Hu1ZKgLSwFuqk6gcCMyIgJTXEJQZgUVxIJCFgDTwsmzgHBCoGgJSXkNQqtZz8KfWCEgDr9aNhPONQ0DKawhK46iBBpeJgDTwyvQBtoFA0QhIeQ1BKRr5BdnjrVkS9+YS7EC8IBcbWY008BoJDhpdWwSkvIagLLiLzZ/wnf2nTT1neRO8lE3vsgTF3aXV22wPe4V5eBb3Vxp4xdVYT0vzxYHejdvjb+KASgDHfHULDK9wESmvISgLJIEisrdjKumdUecLivjW9n4zUgWFg9EQIVXO+O4bwIebICANvJvUUfdr54sDLSb+IGhO/kZ/ziHsS92RLc9/Ka8hKOX1Qb5l3obbFxizeHgb7pjohH7JkcgccbUO2tRK2dLerIFcQfMDNHwS3+ZEQBp4c5pfzctS4yC7ucz7G/OX6zZ+Yyi7xuaelfIagrJEjnBAxMSC/YmQfHgQ/s0T85cc9e+eBOej31ObF6kjtRxOzISANPBmMrrihVPjILPdkRl3Ztm0k3rgdmNRSjO/QselvIagLKvTM6bs2aJgprsSAiI15aUbqm1bGJWV1O/SwCup+vqZzYiDrMYoHs89swjWYiAmWSgH56S8hqAEmC3wkyZ04uzE80IFmv7FxRDpQ+muhFFajqB45sm1H7Ltn8SHeRGQBt689lfrOkEcJDWYZ9fmemCoTCAWvHifx2+VLp5bmEIVr/QXKa8hKAunwaxBFBYNM91FpG2FgkYqKKTXXjJFbeHY1L9CaeDVv6U3bcGsceDWlykmc/g0Q7zMYX1lLpHyGoKy0C7XQZS8EB84Yp+2qXPlfTdFw0x36fPREZb6nrQoHwucOQPacwt/ExGQBl7ixY05mBUHGbxUYpI/68iCMbpeo1NnbRr68ZZ1dXPPSXkNQVkgR/TNXqexvGfp41N3m4bnHWpbQTl/FsGiEHsqLPxEWPucAzJYpPebd2WT7QakV7dv1y+EDzdFQBp4N62nztdnxoEa+CQ9rOKKkBEXisczpatssq/C8WIlxUqdwS3JdymvISgldUAZZnk0FUpvlVEJbN4IAWng3agSXAwEFoyAlNcQlAV3zPzVpcw85jeIK0tAQBp4JVQNk0CgNASkvIaglNYFMNxEBKSB10Rs0Ob6IiDlNQSlvn0MzyuIgDTwKug6XAICqQhIeQ1BSYUQJ4DA7AhIA292y7gCCCwPASmvcwWFDeE/MAAHwAFwoNkckMhZrqBIjKAMEAACGgG+6eIfEFg1BKS8hqCsWs+jPUtFQBp4S3USlQOBGRGQ8hqCMiOwKA4EshCQBl6WDZwDAlVDQMprCErVeg7+1BoBaeDVupFwvnEISHkNQWkcNdDgMhGQBl6ZPsA2ECgaASmvIShFI78ge7wNS+JeXLFNIBfkEKpRCEgDD3ABgTohIOU1BGVJvap2OU39TYc8p3iDu5Tfg88TlNAGkQmbSOZVjfOZCEgDL9NIA06GNoicaYNHBsfd4HHm6zxgwxtEJg7MvKL4qxCQ8hqCshTC8L5cLWqliUKuT/Ft7P1LsgQlei70Y12+BXy4AQLSwLtBFbW/VA2mjF2zlbgY33MbyIOiuxw/HbJzC8cLcH2BiLC4YGAVRyl8RMprCEoYt4V804Qeps8yvBGYu1V3QH7XvYgQmKO91kGbWilbcnM57FZcbhdLA69cL2pmXQmEVBz0YKxz3plPUHhQNacQ1QzVQt2V8hqCUijsAmN+8LiBkfTDPn4ZbW94EB5Bmb/aqFNnwfno98AjN012yj+f6v7WCgIrgKegT9LAK6i6FTCj00/SgY4/u4jEiBgIvu6gQ527we8NSesW17GCBaW8hqAstPNNETE/h51IFwUuZ6a7EoIxmtbyTXN9FgW/Fqmvjc1+/PL4MA8C0sCbx/ZqXePyUfC77367TRExP/sF8j/o2DLWH9lOyow+31pzSkh5DUFZICdUasrPFacLinJJCYMeRYVGUKF0V4KNTEExAokrUaO14QIRWP2qpIG3+kjIW6jiIne2rAXIj4VUQQmEimfifnnXHSUofgzyQXfmnpQpkDdh5UtKeQ1BWRgVwkT3004JpA+7FBYNM92lZivR61MFJWE2A0EJQ13AN2ngFVDV6phI5azRRDWTCNJUQfwE6V6jdPrHmBBBUNLBCs5IeQ1BCTBb8KewUJiV26dt6vgjJi1EeqRlprv0FdHRnfqeNoUPBVOCwJhO4PNcCEgDby7jK3IRc9RMtapZAz9ppTiv+W6eT2x2iMuJJVIORng/t50U8yt6WMprCMrSCJAmKDYNzzt6vSP6lBeP5ELTdXZeB4g3Ymufs930UZvOIeuRXm7QLg2b+lYsDbz6tvCmnttkX4U5G1rDULOVsOAk1ngjIdCipWMmPVYS623oQSmvISg1IgiLQTQnXCP3G+GqNPAaAQYauTIISHkNQalNl2fPPGrTjBV3VBp4Kw4DmrdiCEh5DUFZsY5Hc5aLgDTwluslagcCsyEg5TUEZTZcURoIZCIgDbxMIzgJBCqGgJTXEJSKdRzcqTcC0sCrdyvhfdMQkPI6V1DYEP4DA3AAHAAHms0BiYjmCorECMoAASCgEeCbLv4BgVVDQMprCMqq9Tzas1QEpIG3VCdRORCYEQEpryEoMwKL4kAgCwFp4GXZwDkgUDUEpLyGoFSt5+BPrRGQBl6tGwnnG4eAlNcQlMZRAw0uEwFp4JXpA2wDgaIRkPIaglI08qXZS39TPrrZXmkuwHAuAtLAyzWEAkCgQghIeQ1BKbXTzE3ojK23Yxs8CpzgzfBSrssTFL0hZOS3ULhKdyM+tUle7u9RCHxEEfWIPWDIQsCNiRQum1eaG5l6m59aVgKPzYtSP6fXa9aDDVOTAYSgJOOy5KOa1PNs8Ji1MWSWoPA5HYzRQAz7osoJgnzJAFa+emngVb4hJTnIPG7dbaUOjrKqVTf+eQY+5sApynEeqPm7c4djIsuXpp2T8hozlAUyQwVElNBe/YrY3s0/uqU2b/dtHDMDxGpTO/L7Ep7J4C8HSkRQott/K5tGHcHF+DQDAtLAm8Hk6hT1OJYx205vbAKH0wsnnkmKv+hgLKlMorGGHZTyGoKyMGJkBUTkR3+uOtQ+tQPPOBB9IdKjqGBqHv0eXBZ8itcdD5x4meB6fJIiIA08qb3VKRdwPM69/FbOc03UatxG4JNfNjrQ8k80+4OU1xCUBfEkTmaz4mxR4Gv9NFkC4aOjLNOy/hwXC7YZiBKXipeJ28GRPASkgZdnZ9XOm/w3P8vaWQw34/WyoOTM3GUOrnwpKa8hKAuiAt/0fVFIqVOtY/CvNIbyxEz6IBUVDwqieQUlvMhfTNCmNK0xh6WB1xhAuKEq1RXcuJM4nIkHXx+KiXBpZc/9ddNw7CSU82f6fA4zlDBC6d+kvIagpGNY4JnZbtahgAulu4jUuUhwzSMoFJ3pqKAPhKvAxjfKlDTwmgRK6Ibv3fhjA6d0RELxkF4s90ySnWjsJJXJNdyAAlJeQ1AWQoY8QRlS2xg5KVK7osGfQzMbdeM3Zjvu93D6KtqopPr5WGBHzY4MH6IW8F2GgDTwZNZWs1T0pq2++09axdscLR8vITuSaIcHVn7d4ZiQWW1GKSmvISiL4EPe6P98SJ3Tlvt4Lz/pFcwUhgdBqsB3VQWB+0TY3Q4NY+shXkkdIMEz/GHbeA/Fw6m4v9LAK67G+lmK3tjVYMbgfLRF0VlE9Hzedy1Y3hOU+q85ADPPm8fz7DbpvJTXEJRKs2JI7Uh6q9Luwjm82AgOrCQCEJQV6FYeOWHEVK+OlAZevVoFb5uOgJTXmKE0nSlof6EISAOv0EphDAiUjICU1xCUkjsC5puFgDTwmoUKWlt3BKS8hqDUvafhf6UQkAZepZyGM0AgBwEpr3MFhQ3hPzAAB8ABcKDZHMjRHHU6V1AkRlAGCAABjQDfdPEPCKwaAlJeQ1BWrefRnqUiIA28pTqJyoHAjAhIeQ1BmRFYFAcCWQhIAy/LBs4BgaohIOU1BKVqPQd/ao2ANPBq3Ug43zgEpLyGoDSOGmhwmQhIA69MH2AbCBSNgJTXEJSikYe9RiMgDbxGg4TG1w4BKa8hKLXrWtdhd4PI0E7E6pS5IWSwyWRdm1k3v6WBV7d2Fe2v3hDS2LCx8D3r9G+dJP4+irtDt9o0tfB6i0aqGvakvIagVKO/9O+cCLePN3dHDQuKDiJv/y9VDgGz0B6WBt5CnapgZSwoYe7mOckDpYSdtxMvMwZVMf7rc17dStiEcZdYVUMOSnkNQakSIfxt6SUzi4Rfm4ttkz9LEFYJiPr6Ig28+rawCM+Zu1JxMOtzZx2WJds0leMpKijRY7GYMevDZw8BKa8hKB5ilfobjLC82UbcvQRBiQZL0k+cxg3hSIEISAOvwCpraCoQBv1bPbOLSzBLzxh8xeLB/cXT0IwEgy4JgaS8hqBI0Fx4mSDgZhaUULAkiM7C29KsCqWB1yxUoq21yT63yfYO840/4we2vGKhv+qayA/GhQoQxX7mmn9FPvaTEBCUKGxJ36W8hqAkobesY36QSEZsCWIRG5EllFlW2xpSrzTwGgKHsJlSnupyalYTGjilVBOLB8xQUpDKPSzlNQQlF8rFFFBTeEmQ+O4kBGEsH4zRlw/Xgj5IA29B7sCCPNcAAAGMSURBVNSkGglPJWUizU0QlNisJRYzERv4qhCQ8hqCUlvCJAiKu2bipcnwlNfiO1caeIv3rDo1RtNOYZ6ycAgX3fOalCQopO3jKa888MLnpbyGoIRxq8E3Y9pvec/xmykyHTB6sTNjwbIGLa2ji9LAq2PbivLZvrIp/B6KwVM1Y7ihoLCQ+LHhxog5+3frUGWiT4EV1cgVsyPlNQRlxToezVkuAtLAW66XqB0IzIaAlNcQlNlwRWkgkImANPAyjeAkEKgYAlJeQ1Aq1nFwp94ISAOv3q2E901DQMprCErTmIH2loqANPBKdQLGgUDBCEh5DUEpGHiYazYC0sBrNkpofd0QkPI6V1DYEP4DA3AAHAAHms0BiQhmCorEAMoAASAABIAAEGAEICjgARAAAkAACBSCAASlEBhhBAgAASAABCAo4AAQAAJAAAgUggAEpRAYYQQIAAEgAAQgKOAAEAACQAAIFIIABKUQGGEECAABIAAEICjgABAAAkAACBSCAASlEBhhBAgAASAABP4fxT95HeEC0z8AAAAASUVORK5CYII=)"
      ]
    },
    {
      "cell_type": "code",
      "metadata": {
        "colab": {
          "base_uri": "https://localhost:8080/",
          "height": 297
        },
        "id": "X3OfGw9P20i9",
        "outputId": "42cd3d0f-bab1-40c1-9040-3e63e7fa4942"
      },
      "source": [
        "plt.clf()\n",
        "# Kategorisasi jumlah transaksi\n",
        "def func(row):\n",
        "    if row['Count_Transaction'] == 1:\n",
        "        val = '1. 1'\n",
        "    elif (row['Count_Transaction'] > 1 and row['Count_Transaction'] <= 3):\n",
        "        val ='2.2 - 3'\n",
        "    elif (row['Count_Transaction'] > 3 and row['Count_Transaction'] <= 6):\n",
        "        val ='3.4 - 6'\n",
        "    elif (row['Count_Transaction'] > 6 and row['Count_Transaction'] <= 10):\n",
        "        val ='4.7 - 10'\n",
        "    else:\n",
        "        val ='5. > 10'\n",
        "    return val\n",
        "# Tambahkan kolom baru\n",
        "df['Count_Transaction_Group'] = df.apply(func, axis=1)\n",
        "\n",
        "df_year = df.groupby(['Count_Transaction_Group'])['Customer_ID'].count()\n",
        "df_year.plot(x='Count_Transaction_Group', y='Customer_ID', kind='bar', title='Customer Distribution by Count Transaction Group')\n",
        "plt.xlabel('Count_Transaction_Group')\n",
        "plt.ylabel('Num_of_Customer')\n",
        "plt.tight_layout()\n",
        "plt.show()"
      ],
      "execution_count": null,
      "outputs": [
        {
          "output_type": "display_data",
          "data": {
            "image/png": "[encoded data removed]",
            "text/plain": [
              "<Figure size 432x288 with 1 Axes>"
            ]
          },
          "metadata": {
            "needs_background": "light"
          }
        }
      ]
    },
    {
      "cell_type": "markdown",
      "metadata": {
        "id": "LCvGR-bECi-z"
      },
      "source": [
        "Berdasarkan visualisasi, diketahui bahwa:\n",
        "\n",
        "**Transaksi yang paling sering terjadi/dominan adalah sekali transaksi sedangkan yang terendah adalah customer yang melakukan transasksi 7-10 kali**\n",
        "\n"
      ]
    },
    {
      "cell_type": "markdown",
      "metadata": {
        "id": "TIkvbUncBDrQ"
      },
      "source": [
        "####**Distribusi kategorisasi average transaction amount**\n",
        "\n",
        "Kategorisasi ini dilakukan dengan mengelompokkan rata-rata besar transaksi"
      ]
    },
    {
      "cell_type": "markdown",
      "metadata": {
        "id": "oj2FSg1LBH__"
      },
      "source": [
        "![image.png](data:image/png;base64,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)\n"
      ]
    },
    {
      "cell_type": "code",
      "metadata": {
        "colab": {
          "base_uri": "https://localhost:8080/",
          "height": 297
        },
        "id": "LsHUn858BBOa",
        "outputId": "50dff179-303d-405e-a8d6-e0e3a52d643b"
      },
      "source": [
        "plt.clf()\n",
        "# Kategorisasi rata-rata besar transaksi\n",
        "def f(row):\n",
        "    if (row['Average_Transaction_Amount'] >= 100000 and row['Average_Transaction_Amount'] <= 200000):\n",
        "        val ='1. 100.000 - 250.000'\n",
        "    elif (row['Average_Transaction_Amount'] >250000 and row['Average_Transaction_Amount'] <= 500000):\n",
        "        val ='2. >250.000 - 500.000'\n",
        "    elif (row['Average_Transaction_Amount'] >500000 and row['Average_Transaction_Amount'] <= 750000):\n",
        "        val = '3. >500.000 - 750.000'\n",
        "    elif (row['Average_Transaction_Amount'] >750000 and row['Average_Transaction_Amount'] <= 1000000):\n",
        "        val = '4. >750.000 - 1.000.000'\n",
        "    elif (row['Average_Transaction_Amount'] >1000000 and row['Average_Transaction_Amount'] <= 2500000):\n",
        "        val = '5. >1.000.000 - 2.500.000'\n",
        "    elif (row['Average_Transaction_Amount'] >2500000 and row['Average_Transaction_Amount'] <= 5000000):\n",
        "        val = '6. >2.500.000 - 5.000.000'\n",
        "    elif (row['Average_Transaction_Amount'] >5000000 and row['Average_Transaction_Amount'] <= 10000000):\n",
        "        val = '7. >5.000.000 - 10.000.000'\n",
        "    else:\n",
        "        val = '8. >10.000.000'\n",
        "    return val\n",
        "# Tambahkan kolom baru\n",
        "df['Average_Transaction_Amount_Group'] = df.apply(f, axis=1)\n",
        "\n",
        "df_year = df.groupby(['Average_Transaction_Amount_Group'])['Customer_ID'].count()\n",
        "df_year.plot(x='Average_Transaction_Amount_Group', y='Customer_ID', kind='bar', title='Customer Distribution by Average Transaction Amount Group')\n",
        "plt.xlabel('Average_Transaction_Amount_Group')\n",
        "plt.ylabel('Num_of_Customer')\n",
        "plt.tight_layout()\n",
        "plt.show()"
      ],
      "execution_count": null,
      "outputs": [
        {
          "output_type": "display_data",
          "data": {
            "image/png": "[encoded data removed]",
            "text/plain": [
              "<Figure size 432x288 with 1 Axes>"
            ]
          },
          "metadata": {
            "needs_background": "light"
          }
        }
      ]
    },
    {
      "cell_type": "markdown",
      "metadata": {
        "id": "GThWpx9iCI3O"
      },
      "source": [
        "Berdasarkan visualisasi, diketahui bahwa:\n",
        "\n",
        "**Rata-rata transaksi terjadi pada rentang angka > 1.000.000 hingga 2.500.000**"
      ]
    },
    {
      "cell_type": "markdown",
      "metadata": {
        "id": "2BMNRnmkEZFy"
      },
      "source": [
        "####**Modelling**\n",
        "Modeling dilakukan untuk mengetahui customer churn di masa depan"
      ]
    },
    {
      "cell_type": "markdown",
      "metadata": {
        "id": "yz6zCimZMMur"
      },
      "source": [
        "**Features Columns and Target**\n",
        "\n",
        "Membuat kolom fitur dan target(churn, tidak churn)"
      ]
    },
    {
      "cell_type": "code",
      "metadata": {
        "colab": {
          "base_uri": "https://localhost:8080/"
        },
        "id": "9RriLBOGB4WL",
        "outputId": "2048b554-1c10-48cf-ac68-9d4c5e1ab928"
      },
      "source": [
        "# Feature column: Year_Diff\n",
        "df['Year_Diff'] = df['Year_Last_Transaction'] - df['Year_First_Transaction']\n",
        "\n",
        "# Nama-nama feature columns\n",
        "feature_columns = ['Average_Transaction_Amount', 'Count_Transaction', 'Year_Diff']\n",
        "\n",
        "# Features variable\n",
        "X = df[feature_columns] \n",
        "\n",
        "# Target variable\n",
        "y = df['is_churn'] \n",
        "\n",
        "print('Kolom Feature', X)\n",
        "print('\\nKolom Target',y)"
      ],
      "execution_count": null,
      "outputs": [
        {
          "output_type": "stream",
          "name": "stdout",
          "text": [
            "Kolom Feature        Average_Transaction_Amount  Count_Transaction  Year_Diff\n",
            "0                         1467681                 22          2\n",
            "1                         1269337                 41          4\n",
            "2                          310915                 30          2\n",
            "3                          722632                 27          2\n",
            "4                         1775036                 25          3\n",
            "...                           ...                ...        ...\n",
            "99995                      298662                  1          0\n",
            "99996                      349556                  1          0\n",
            "99997                      598013                  1          0\n",
            "99998                     1208591                  1          0\n",
            "99999                      486710                  1          0\n",
            "\n",
            "[100000 rows x 3 columns]\n",
            "\n",
            "Kolom Target 0        0\n",
            "1        0\n",
            "2        0\n",
            "3        0\n",
            "4        0\n",
            "        ..\n",
            "99995    1\n",
            "99996    1\n",
            "99997    1\n",
            "99998    1\n",
            "99999    0\n",
            "Name: is_churn, Length: 100000, dtype: int64\n"
          ]
        }
      ]
    },
    {
      "cell_type": "markdown",
      "metadata": {
        "id": "BS5w_nUsL26X"
      },
      "source": [
        "**Split X dan y untuk training dan testing**"
      ]
    },
    {
      "cell_type": "code",
      "metadata": {
        "id": "ioGkj1NJEgeI"
      },
      "source": [
        "X_train, X_test, y_train, y_test = train_test_split(X, y, test_size=0.25, random_state=0)"
      ],
      "execution_count": null,
      "outputs": []
    },
    {
      "cell_type": "code",
      "metadata": {
        "colab": {
          "base_uri": "https://localhost:8080/"
        },
        "id": "uGnEfU5hEqAs",
        "outputId": "75fd393a-c573-4485-bbc3-3880d76f7ef7"
      },
      "source": [
        "# Inisiasi model logreg\n",
        "logreg = LogisticRegression()\n",
        "\n",
        "# fit the model with data\n",
        "logreg.fit(X_train, y_train)\n",
        "\n",
        "# Predict model\n",
        "y_pred = logreg.predict(X_test)\n",
        "\n",
        "# Evaluasi model menggunakan confusion matrix\n",
        "cnf_matrix = confusion_matrix(y_test, y_pred)\n",
        "print('Confusion Matrix:\\n', cnf_matrix)"
      ],
      "execution_count": null,
      "outputs": [
        {
          "output_type": "stream",
          "name": "stdout",
          "text": [
            "Confusion Matrix:\n",
            " [[    1  8330]\n",
            " [    3 16666]]\n"
          ]
        }
      ]
    },
    {
      "cell_type": "code",
      "metadata": {
        "colab": {
          "base_uri": "https://localhost:8080/",
          "height": 314
        },
        "id": "Qzo8d-xIFP3-",
        "outputId": "fb1fce1f-7491-4a18-a659-f7f32a530fbf"
      },
      "source": [
        "plt.clf()\n",
        "# name  of classes\n",
        "class_names = [0, 1] \n",
        "fig, ax = plt.subplots()\n",
        "\n",
        "tick_marks = np.arange(len(class_names))\n",
        "plt.xticks(tick_marks, class_names)\n",
        "plt.yticks(tick_marks, class_names)\n",
        "\n",
        "# create heatmap\n",
        "sns.heatmap(pd.DataFrame(cnf_matrix), annot=True, cmap='YlGnBu', fmt='g')\n",
        "ax.xaxis.set_label_position('top')\n",
        "plt.title('Confusion matrix', y=1.1)\n",
        "plt.ylabel('Actual')\n",
        "plt.xlabel('Predicted')\n",
        "plt.tight_layout()\n",
        "plt.show()"
      ],
      "execution_count": null,
      "outputs": [
        {
          "output_type": "display_data",
          "data": {
            "text/plain": [
              "<Figure size 432x288 with 0 Axes>"
            ]
          },
          "metadata": {}
        },
        {
          "output_type": "display_data",
          "data": {
            "image/png": "[encoded data removed]",
            "text/plain": [
              "<Figure size 432x288 with 2 Axes>"
            ]
          },
          "metadata": {
            "needs_background": "light"
          }
        }
      ]
    },
    {
      "cell_type": "code",
      "metadata": {
        "colab": {
          "base_uri": "https://localhost:8080/"
        },
        "id": "oyzRzDwEFnOQ",
        "outputId": "6ce0cc10-7f24-402d-fe7a-01110f540948"
      },
      "source": [
        "from sklearn.metrics import accuracy_score, precision_score, recall_score\n",
        "\n",
        "#Menghitung Accuracy, Precision, dan Recall\n",
        "print('Accuracy :', accuracy_score(y_test, y_pred))\n",
        "print('Precision:', precision_score(y_test, y_pred, average='micro'))\n",
        "print('Recall   :', recall_score(y_test, y_pred, average='micro'))"
      ],
      "execution_count": null,
      "outputs": [
        {
          "output_type": "stream",
          "name": "stdout",
          "text": [
            "Accuracy : 0.66668\n",
            "Precision: 0.66668\n",
            "Recall   : 0.66668\n"
          ]
        }
      ]
    },
    {
      "cell_type": "markdown",
      "metadata": {
        "id": "eO0rcnFvO6fk"
      },
      "source": [
        "**Precision**\n",
        "\n",
        "Dari semua model yang mengatakan pelanggan akan churn, 66.67% pelanggan benar-benar churn\n",
        "\n",
        "\n",
        "**Recall**\n",
        "\n",
        "Dari semua pelanggan yang dilihat benar-benar churn, 66.67% yang diidentifikasi dengan benar oleh model sebagai 'akan churn'\n",
        "\n",
        "\n",
        "**Accuracy**\n",
        "\n",
        "Dari semua prediksi yang dibuat, 66.67% bernilai benar"
      ]
    }
  ]
}