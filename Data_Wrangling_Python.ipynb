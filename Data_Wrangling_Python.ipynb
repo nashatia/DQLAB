{
  "nbformat": 4,
  "nbformat_minor": 0,
  "metadata": {
    "colab": {
      "name": "Data Wrangling Python.ipynb",
      "provenance": [],
      "collapsed_sections": [],
      "authorship_tag": "ABX9TyNeEbgj7+UBP0+OThey+onI"
    },
    "kernelspec": {
      "name": "python3",
      "display_name": "Python 3"
    },
    "language_info": {
      "name": "python"
    }
  },
  "cells": [
    {
      "cell_type": "markdown",
      "metadata": {
        "id": "Qng82oNd8wd1"
      },
      "source": [
        "#**Read File Using pandas**\n",
        "Format : .txt, .csv, .tsv, etc."
      ]
    },
    {
      "cell_type": "code",
      "metadata": {
        "colab": {
          "base_uri": "https://localhost:8080/"
        },
        "id": "opTsC10WdxaD",
        "outputId": "9f202c02-c92f-400a-80b6-52f0ab017a18"
      },
      "source": [
        "import pandas as pd\n",
        "\n",
        "csv_data = pd.read_csv(\"https://dqlab-dataset.s3-ap-southeast-1.amazonaws.com/shopping_data.csv\")\n",
        "\n",
        "print(csv_data)"
      ],
      "execution_count": 1,
      "outputs": [
        {
          "output_type": "stream",
          "text": [
            "     CustomerID   Genre  Age  Annual Income (k$)  Spending Score (1-100)\n",
            "0             1    Male   19                  15                      39\n",
            "1             2    Male   21                  15                      81\n",
            "2             3  Female   20                  16                       6\n",
            "3             4  Female   23                  16                      77\n",
            "4             5  Female   31                  17                      40\n",
            "..          ...     ...  ...                 ...                     ...\n",
            "195         196  Female   35                 120                      79\n",
            "196         197  Female   45                 126                      28\n",
            "197         198    Male   32                 126                      74\n",
            "198         199    Male   32                 137                      18\n",
            "199         200    Male   30                 137                      83\n",
            "\n",
            "[200 rows x 5 columns]\n"
          ],
          "name": "stdout"
        }
      ]
    },
    {
      "cell_type": "markdown",
      "metadata": {
        "id": "4M11l1dp9Kph"
      },
      "source": [
        "##**head**"
      ]
    },
    {
      "cell_type": "code",
      "metadata": {
        "colab": {
          "base_uri": "https://localhost:8080/"
        },
        "id": "VMRbnOOA9HH1",
        "outputId": "24b1d7c0-d2bf-46de-912a-f1a23931046d"
      },
      "source": [
        "print(csv_data.head())"
      ],
      "execution_count": 2,
      "outputs": [
        {
          "output_type": "stream",
          "text": [
            "   CustomerID   Genre  Age  Annual Income (k$)  Spending Score (1-100)\n",
            "0           1    Male   19                  15                      39\n",
            "1           2    Male   21                  15                      81\n",
            "2           3  Female   20                  16                       6\n",
            "3           4  Female   23                  16                      77\n",
            "4           5  Female   31                  17                      40\n"
          ],
          "name": "stdout"
        }
      ]
    },
    {
      "cell_type": "markdown",
      "metadata": {
        "id": "3OfNXKgF9X3A"
      },
      "source": [
        "##**column**"
      ]
    },
    {
      "cell_type": "code",
      "metadata": {
        "colab": {
          "base_uri": "https://localhost:8080/"
        },
        "id": "6WZHoARW9WGt",
        "outputId": "5104606e-2004-4a19-8769-7881559fe408"
      },
      "source": [
        "print(csv_data['Age'])"
      ],
      "execution_count": 3,
      "outputs": [
        {
          "output_type": "stream",
          "text": [
            "0      19\n",
            "1      21\n",
            "2      20\n",
            "3      23\n",
            "4      31\n",
            "       ..\n",
            "195    35\n",
            "196    45\n",
            "197    32\n",
            "198    32\n",
            "199    30\n",
            "Name: Age, Length: 200, dtype: int64\n"
          ],
          "name": "stdout"
        }
      ]
    },
    {
      "cell_type": "markdown",
      "metadata": {
        "id": "jRj7On769mkS"
      },
      "source": [
        "##**row**\n",
        "Fungsi yang digunakan adalah .iloc[i] dimana [i] menunjukan urutan baris yang akan ditampilkan (index diawali dari 0)"
      ]
    },
    {
      "cell_type": "code",
      "metadata": {
        "id": "T3TnsOR49jXI"
      },
      "source": [
        "print(csv_data.iloc[5])"
      ],
      "execution_count": null,
      "outputs": []
    },
    {
      "cell_type": "markdown",
      "metadata": {
        "id": "9j7HlzXo-AgR"
      },
      "source": [
        "##**column and row**"
      ]
    },
    {
      "cell_type": "code",
      "metadata": {
        "colab": {
          "base_uri": "https://localhost:8080/"
        },
        "id": "9Kd4J2vo957P",
        "outputId": "fb536ec4-41dc-47da-a4fb-409c8e874469"
      },
      "source": [
        "print(csv_data['Age'].iloc[1])\n",
        "\n",
        "print(\"Cuplikan Dataset:\")\n",
        "\n",
        "print(csv_data.head())"
      ],
      "execution_count": 4,
      "outputs": [
        {
          "output_type": "stream",
          "text": [
            "21\n",
            "Cuplikan Dataset:\n",
            "   CustomerID   Genre  Age  Annual Income (k$)  Spending Score (1-100)\n",
            "0           1    Male   19                  15                      39\n",
            "1           2    Male   21                  15                      81\n",
            "2           3  Female   20                  16                       6\n",
            "3           4  Female   23                  16                      77\n",
            "4           5  Female   31                  17                      40\n"
          ],
          "name": "stdout"
        }
      ]
    },
    {
      "cell_type": "markdown",
      "metadata": {
        "id": "RVm4D4Ui-IKe"
      },
      "source": [
        "##**with range**"
      ]
    },
    {
      "cell_type": "code",
      "metadata": {
        "colab": {
          "base_uri": "https://localhost:8080/"
        },
        "id": "Egren_1p-Fcz",
        "outputId": "344ce104-b093-4236-936e-c931611cc2f4"
      },
      "source": [
        "print(csv_data.iloc[5:10])"
      ],
      "execution_count": 5,
      "outputs": [
        {
          "output_type": "stream",
          "text": [
            "   CustomerID   Genre  Age  Annual Income (k$)  Spending Score (1-100)\n",
            "5           6  Female   22                  17                      76\n",
            "6           7  Female   35                  18                       6\n",
            "7           8  Female   23                  18                      94\n",
            "8           9    Male   64                  19                       3\n",
            "9          10  Female   30                  19                      72\n"
          ],
          "name": "stdout"
        }
      ]
    },
    {
      "cell_type": "markdown",
      "metadata": {
        "id": "duuVI2wj-RDa"
      },
      "source": [
        "##**Statistic Information with Numpy**\n",
        "\n",
        "exclude=['O'] digunakan untuk memfilter data numerical\n"
      ]
    },
    {
      "cell_type": "code",
      "metadata": {
        "colab": {
          "base_uri": "https://localhost:8080/"
        },
        "id": "1cM1-bfm-Mpa",
        "outputId": "47006368-8007-4aa1-e340-eed936c96ca2"
      },
      "source": [
        "print(csv_data.describe(exclude=['O']))"
      ],
      "execution_count": 6,
      "outputs": [
        {
          "output_type": "stream",
          "text": [
            "       CustomerID         Age  Annual Income (k$)  Spending Score (1-100)\n",
            "count  200.000000  200.000000          200.000000              200.000000\n",
            "mean   100.500000   38.850000           60.560000               50.200000\n",
            "std     57.879185   13.969007           26.264721               25.823522\n",
            "min      1.000000   18.000000           15.000000                1.000000\n",
            "25%     50.750000   28.750000           41.500000               34.750000\n",
            "50%    100.500000   36.000000           61.500000               50.000000\n",
            "75%    150.250000   49.000000           78.000000               73.000000\n",
            "max    200.000000   70.000000          137.000000               99.000000\n"
          ],
          "name": "stdout"
        }
      ]
    },
    {
      "cell_type": "markdown",
      "metadata": {
        "id": "gEx9RDTo_SBs"
      },
      "source": [
        "#**Handling Missing Value**\n",
        "\n",
        "\n",
        "\n",
        "1.   Delete Data\n",
        "     *  **Deleteing rows**\n",
        "     *  **Pairwise Deletion**\n",
        "     *  **Delete Column**\n",
        "2.   Imputation (Pengisian data yang kosong)\n",
        "     *  Time Series Problem\n",
        "        *  Data without Trend with Seasonality => **Mean, Median, Mode, Random**\n",
        "        *  Data with Trend and without Seasonality => **Linear Interpolation**\n",
        "        *  Data with Trend and Seasonality => **Seasonal suggestion + interpolation**\n",
        "    \n",
        "     *  General Problem\n",
        "        *  Data Categorical => **Make NA as Mutiple Imputation and Logistic Regression**\n",
        "        *  Data Numerical or Continuous => **Mean, Median, Mode, Mutiple Imputation and Linear Regression**\n",
        "\n"
      ]
    },
    {
      "cell_type": "markdown",
      "metadata": {
        "id": "VUumgcAL_kLK"
      },
      "source": [
        "##**Check NULL/NAN value**"
      ]
    },
    {
      "cell_type": "code",
      "metadata": {
        "colab": {
          "base_uri": "https://localhost:8080/"
        },
        "id": "j2qB1iLX-ZyQ",
        "outputId": "28fa9e89-dc4e-4d3d-a3bf-6e2e7f82bb05"
      },
      "source": [
        "print(csv_data.isnull().values.any())"
      ],
      "execution_count": 7,
      "outputs": [
        {
          "output_type": "stream",
          "text": [
            "False\n"
          ],
          "name": "stdout"
        }
      ]
    },
    {
      "cell_type": "markdown",
      "metadata": {
        "id": "_aUClG-WBxX9"
      },
      "source": [
        "##**Insert using Mean**"
      ]
    },
    {
      "cell_type": "code",
      "metadata": {
        "colab": {
          "base_uri": "https://localhost:8080/"
        },
        "id": "HmaHYTuP_u_B",
        "outputId": "9372e8b3-ff18-4b2c-c68b-315e50c7f150"
      },
      "source": [
        "import pandas as pd\n",
        "\n",
        "csv_data = pd.read_csv(\"https://dqlab-dataset.s3-ap-southeast-1.amazonaws.com/shopping_data_missingvalue.csv\")\n",
        "print(csv_data.mean())\n",
        "print(\"Dataset yang masih terdapat nilai kosong ! :\")\n",
        "print(csv_data.head(10))"
      ],
      "execution_count": 9,
      "outputs": [
        {
          "output_type": "stream",
          "text": [
            "CustomerID                100.500000\n",
            "Age                        38.939698\n",
            "Annual Income (k$)         61.005051\n",
            "Spending Score (1-100)     50.489899\n",
            "dtype: float64\n",
            "Dataset yang masih terdapat nilai kosong ! :\n",
            "   CustomerID   Genre   Age  Annual Income (k$)  Spending Score (1-100)\n",
            "0           1    Male  19.0                15.0                    39.0\n",
            "1           2    Male   NaN                15.0                    81.0\n",
            "2           3  Female  20.0                 NaN                     6.0\n",
            "3           4  Female  23.0                16.0                    77.0\n",
            "4           5  Female  31.0                17.0                     NaN\n",
            "5           6  Female  22.0                 NaN                    76.0\n",
            "6           7  Female  35.0                18.0                     6.0\n",
            "7           8  Female  23.0                18.0                    94.0\n",
            "8           9    Male  64.0                19.0                     NaN\n",
            "9          10  Female  30.0                19.0                    72.0\n"
          ],
          "name": "stdout"
        }
      ]
    },
    {
      "cell_type": "code",
      "metadata": {
        "colab": {
          "base_uri": "https://localhost:8080/"
        },
        "id": "jpYKflHyB23Q",
        "outputId": "253d93d5-c5ee-49a3-b91e-e6904f78ec99"
      },
      "source": [
        "csv_data=csv_data.fillna(csv_data.mean())\n",
        "print(\"Dataset yang sudah diproses Handling Missing Values dengan Mean :\")\n",
        "print(csv_data.head(10))"
      ],
      "execution_count": 10,
      "outputs": [
        {
          "output_type": "stream",
          "text": [
            "Dataset yang sudah diproses Handling Missing Values dengan Mean :\n",
            "   CustomerID   Genre        Age  Annual Income (k$)  Spending Score (1-100)\n",
            "0           1    Male  19.000000           15.000000               39.000000\n",
            "1           2    Male  38.939698           15.000000               81.000000\n",
            "2           3  Female  20.000000           61.005051                6.000000\n",
            "3           4  Female  23.000000           16.000000               77.000000\n",
            "4           5  Female  31.000000           17.000000               50.489899\n",
            "5           6  Female  22.000000           61.005051               76.000000\n",
            "6           7  Female  35.000000           18.000000                6.000000\n",
            "7           8  Female  23.000000           18.000000               94.000000\n",
            "8           9    Male  64.000000           19.000000               50.489899\n",
            "9          10  Female  30.000000           19.000000               72.000000\n"
          ],
          "name": "stdout"
        }
      ]
    },
    {
      "cell_type": "markdown",
      "metadata": {
        "id": "bh65frZ7CBDz"
      },
      "source": [
        "##**Insert using Median**"
      ]
    },
    {
      "cell_type": "code",
      "metadata": {
        "colab": {
          "base_uri": "https://localhost:8080/"
        },
        "id": "HdA6uGjBCN20",
        "outputId": "008b8a8c-439e-4f3a-e7ac-045ac0725605"
      },
      "source": [
        "csv_data = pd.read_csv(\"https://dqlab-dataset.s3-ap-southeast-1.amazonaws.com/shopping_data_missingvalue.csv\")\n",
        "print(\"Dataset yang masih terdapat nilai kosong ! :\")\n",
        "print(csv_data.head(10))"
      ],
      "execution_count": 12,
      "outputs": [
        {
          "output_type": "stream",
          "text": [
            "Dataset yang masih terdapat nilai kosong ! :\n",
            "   CustomerID   Genre   Age  Annual Income (k$)  Spending Score (1-100)\n",
            "0           1    Male  19.0                15.0                    39.0\n",
            "1           2    Male   NaN                15.0                    81.0\n",
            "2           3  Female  20.0                 NaN                     6.0\n",
            "3           4  Female  23.0                16.0                    77.0\n",
            "4           5  Female  31.0                17.0                     NaN\n",
            "5           6  Female  22.0                 NaN                    76.0\n",
            "6           7  Female  35.0                18.0                     6.0\n",
            "7           8  Female  23.0                18.0                    94.0\n",
            "8           9    Male  64.0                19.0                     NaN\n",
            "9          10  Female  30.0                19.0                    72.0\n"
          ],
          "name": "stdout"
        }
      ]
    },
    {
      "cell_type": "code",
      "metadata": {
        "colab": {
          "base_uri": "https://localhost:8080/"
        },
        "id": "SSy9n_jLB9hu",
        "outputId": "a771dffa-612b-42ba-d552-bf090f6fc243"
      },
      "source": [
        "csv_data=csv_data.fillna(csv_data.median())\n",
        "print(\"Dataset yang sudah diproses Handling Missing Values dengan Median :\")\n",
        "print(csv_data.head(10))"
      ],
      "execution_count": 13,
      "outputs": [
        {
          "output_type": "stream",
          "text": [
            "Dataset yang sudah diproses Handling Missing Values dengan Median :\n",
            "   CustomerID   Genre   Age  Annual Income (k$)  Spending Score (1-100)\n",
            "0           1    Male  19.0                15.0                    39.0\n",
            "1           2    Male  36.0                15.0                    81.0\n",
            "2           3  Female  20.0                62.0                     6.0\n",
            "3           4  Female  23.0                16.0                    77.0\n",
            "4           5  Female  31.0                17.0                    50.0\n",
            "5           6  Female  22.0                62.0                    76.0\n",
            "6           7  Female  35.0                18.0                     6.0\n",
            "7           8  Female  23.0                18.0                    94.0\n",
            "8           9    Male  64.0                19.0                    50.0\n",
            "9          10  Female  30.0                19.0                    72.0\n"
          ],
          "name": "stdout"
        }
      ]
    },
    {
      "cell_type": "markdown",
      "metadata": {
        "id": "OyblxI2ICRsA"
      },
      "source": [
        "#**Data Normalization**\n",
        "\n",
        "\n",
        "\n",
        "*   Min - Max\n",
        "*   Z-Score\n",
        "*   Decimal Scaling\n",
        "*   Softmax\n",
        "*   Sigmoid\n",
        "\n"
      ]
    },
    {
      "cell_type": "markdown",
      "metadata": {
        "id": "_Q8ImWyCCw2M"
      },
      "source": [
        "##**Using Sckit Learn**"
      ]
    },
    {
      "cell_type": "code",
      "metadata": {
        "colab": {
          "base_uri": "https://localhost:8080/"
        },
        "id": "60kZBsnxCJAp",
        "outputId": "305ecee2-bacd-4a7c-b8f7-2c0f03506e69"
      },
      "source": [
        "import pandas as pd\n",
        "import numpy as np\n",
        "from sklearn import preprocessing\n",
        "\n",
        "csv_data = pd.read_csv(\"https://dqlab-dataset.s3-ap-southeast-1.amazonaws.com/shopping_data.csv\")\n",
        "array = csv_data.values\n",
        "\n",
        "X = array[:,2:5] #memisahkan fitur dari dataset. \n",
        "Y = array[:,0:1]  #memisahkan class dari dataset\n",
        "\n",
        "dataset=pd.DataFrame({'Customer ID':array[:,0],'Gender':array[:,1],'Age':array[:,2],'Income':array[:,3],'Spending Score':array[:,4]})\n",
        "print(\"dataset sebelum dinormalisasi :\")\n",
        "print(dataset.head(10))"
      ],
      "execution_count": 15,
      "outputs": [
        {
          "output_type": "stream",
          "text": [
            "dataset sebelum dinormalisasi :\n",
            "  Customer ID  Gender Age Income Spending Score\n",
            "0           1    Male  19     15             39\n",
            "1           2    Male  21     15             81\n",
            "2           3  Female  20     16              6\n",
            "3           4  Female  23     16             77\n",
            "4           5  Female  31     17             40\n",
            "5           6  Female  22     17             76\n",
            "6           7  Female  35     18              6\n",
            "7           8  Female  23     18             94\n",
            "8           9    Male  64     19              3\n",
            "9          10  Female  30     19             72\n"
          ],
          "name": "stdout"
        }
      ]
    },
    {
      "cell_type": "code",
      "metadata": {
        "colab": {
          "base_uri": "https://localhost:8080/"
        },
        "id": "M30Wge9wC5Rm",
        "outputId": "861c8913-aab3-4bc1-9c37-298f4edb916c"
      },
      "source": [
        "min_max_scaler = preprocessing.MinMaxScaler(feature_range=(0,1)) #inisialisasi normalisasi MinMax\n",
        "data = min_max_scaler.fit_transform(X) #transformasi MinMax untuk fitur\n",
        "dataset = pd.DataFrame({'Age':data[:,0],'Income':data[:,1],'Spending Score':data[:,2],'Customer ID':array[:,0],'Gender':array[:,1]})\n",
        "\n",
        "print(\"dataset setelah dinormalisasi :\")\n",
        "print(dataset.head(10))"
      ],
      "execution_count": 16,
      "outputs": [
        {
          "output_type": "stream",
          "text": [
            "dataset setelah dinormalisasi :\n",
            "        Age    Income  Spending Score Customer ID  Gender\n",
            "0  0.019231  0.000000        0.387755           1    Male\n",
            "1  0.057692  0.000000        0.816327           2    Male\n",
            "2  0.038462  0.008197        0.051020           3  Female\n",
            "3  0.096154  0.008197        0.775510           4  Female\n",
            "4  0.250000  0.016393        0.397959           5  Female\n",
            "5  0.076923  0.016393        0.765306           6  Female\n",
            "6  0.326923  0.024590        0.051020           7  Female\n",
            "7  0.096154  0.024590        0.948980           8  Female\n",
            "8  0.884615  0.032787        0.020408           9    Male\n",
            "9  0.230769  0.032787        0.724490          10  Female\n"
          ],
          "name": "stdout"
        }
      ]
    },
    {
      "cell_type": "code",
      "metadata": {
        "id": "hg_ze9AmDClp"
      },
      "source": [
        ""
      ],
      "execution_count": null,
      "outputs": []
    }
  ]
}